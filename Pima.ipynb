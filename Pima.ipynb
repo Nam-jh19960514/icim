{
 "cells": [
  {
   "cell_type": "code",
   "execution_count": 984,
   "metadata": {},
   "outputs": [],
   "source": [
    "import warnings\n",
    "warnings.filterwarnings(action='ignore')\n",
    "\n",
    "import pandas as pd\n",
    "import numpy as np\n",
    "import matplotlib.pyplot as plt\n",
    "import seaborn as sns\n",
    "\n",
    "from sklearn import tree, svm\n",
    "from sklearn.tree.export import export_graphviz, DecisionTreeClassifier\n",
    "from sklearn.ensemble import RandomForestRegressor, VotingClassifier, BaggingClassifier, ExtraTreesClassifier, AdaBoostClassifier\n",
    "from sklearn import metrics\n",
    "from sklearn.metrics import mean_squared_error, r2_score, f1_score, confusion_matrix, classification_report , accuracy_score\n",
    "from sklearn.neighbors import KNeighborsClassifier\n",
    "from sklearn.model_selection import train_test_split, cross_val_score, KFold\n",
    "from sklearn.linear_model import LogisticRegression\n",
    "from sklearn.discriminant_analysis import LinearDiscriminantAnalysis\n",
    "\n",
    "from imblearn.under_sampling import RandomUnderSampler\n",
    "from imblearn.over_sampling import RandomOverSampler, SMOTE"
   ]
  },
  {
   "cell_type": "code",
   "execution_count": 2,
   "metadata": {},
   "outputs": [],
   "source": [
    "pima_df_del = pd.read_csv('/root/nims_academy/Pima/data/diabetes.csv')"
   ]
  },
  {
   "cell_type": "code",
   "execution_count": 655,
   "metadata": {},
   "outputs": [
    {
     "data": {
      "text/html": [
       "<div>\n",
       "<style scoped>\n",
       "    .dataframe tbody tr th:only-of-type {\n",
       "        vertical-align: middle;\n",
       "    }\n",
       "\n",
       "    .dataframe tbody tr th {\n",
       "        vertical-align: top;\n",
       "    }\n",
       "\n",
       "    .dataframe thead th {\n",
       "        text-align: right;\n",
       "    }\n",
       "</style>\n",
       "<table border=\"1\" class=\"dataframe\">\n",
       "  <thead>\n",
       "    <tr style=\"text-align: right;\">\n",
       "      <th></th>\n",
       "      <th>Pregnancies</th>\n",
       "      <th>Glucose</th>\n",
       "      <th>BloodPressure</th>\n",
       "      <th>SkinThickness</th>\n",
       "      <th>Insulin</th>\n",
       "      <th>BMI</th>\n",
       "      <th>DiabetesPedigreeFunction</th>\n",
       "      <th>Age</th>\n",
       "      <th>Outcome</th>\n",
       "    </tr>\n",
       "  </thead>\n",
       "  <tbody>\n",
       "    <tr>\n",
       "      <th>0</th>\n",
       "      <td>6</td>\n",
       "      <td>148</td>\n",
       "      <td>72</td>\n",
       "      <td>35</td>\n",
       "      <td>0</td>\n",
       "      <td>33.6</td>\n",
       "      <td>0.627</td>\n",
       "      <td>50</td>\n",
       "      <td>1</td>\n",
       "    </tr>\n",
       "    <tr>\n",
       "      <th>1</th>\n",
       "      <td>1</td>\n",
       "      <td>85</td>\n",
       "      <td>66</td>\n",
       "      <td>29</td>\n",
       "      <td>0</td>\n",
       "      <td>26.6</td>\n",
       "      <td>0.351</td>\n",
       "      <td>31</td>\n",
       "      <td>0</td>\n",
       "    </tr>\n",
       "    <tr>\n",
       "      <th>2</th>\n",
       "      <td>8</td>\n",
       "      <td>183</td>\n",
       "      <td>64</td>\n",
       "      <td>0</td>\n",
       "      <td>0</td>\n",
       "      <td>23.3</td>\n",
       "      <td>0.672</td>\n",
       "      <td>32</td>\n",
       "      <td>1</td>\n",
       "    </tr>\n",
       "    <tr>\n",
       "      <th>3</th>\n",
       "      <td>1</td>\n",
       "      <td>89</td>\n",
       "      <td>66</td>\n",
       "      <td>23</td>\n",
       "      <td>94</td>\n",
       "      <td>28.1</td>\n",
       "      <td>0.167</td>\n",
       "      <td>21</td>\n",
       "      <td>0</td>\n",
       "    </tr>\n",
       "    <tr>\n",
       "      <th>4</th>\n",
       "      <td>0</td>\n",
       "      <td>137</td>\n",
       "      <td>40</td>\n",
       "      <td>35</td>\n",
       "      <td>168</td>\n",
       "      <td>43.1</td>\n",
       "      <td>2.288</td>\n",
       "      <td>33</td>\n",
       "      <td>1</td>\n",
       "    </tr>\n",
       "  </tbody>\n",
       "</table>\n",
       "</div>"
      ],
      "text/plain": [
       "   Pregnancies  Glucose  BloodPressure  SkinThickness  Insulin   BMI  \\\n",
       "0            6      148             72             35        0  33.6   \n",
       "1            1       85             66             29        0  26.6   \n",
       "2            8      183             64              0        0  23.3   \n",
       "3            1       89             66             23       94  28.1   \n",
       "4            0      137             40             35      168  43.1   \n",
       "\n",
       "   DiabetesPedigreeFunction  Age  Outcome  \n",
       "0                     0.627   50        1  \n",
       "1                     0.351   31        0  \n",
       "2                     0.672   32        1  \n",
       "3                     0.167   21        0  \n",
       "4                     2.288   33        1  "
      ]
     },
     "execution_count": 655,
     "metadata": {},
     "output_type": "execute_result"
    }
   ],
   "source": [
    "pima_df.Glucose = pima_df.Glucose.fillna(100)\n",
    "pima_df.BMI = pima_df.BMI.fillna(pima_df.BMI.mean())\n",
    "pima_df.BloodPressure = pima_df.BloodPressure.fillna(int(pima_df.BloodPressure.mean()))"
   ]
  },
  {
   "cell_type": "code",
   "execution_count": 668,
   "metadata": {},
   "outputs": [],
   "source": [
    "pima_df.describe()\n",
    "# Glucose, BloodPressure, SkinThinkness, Insuin, BMI는 정상적으로 0이 나올 수 없으므로 결측치로 봐야한다.\n",
    "# 따라서, 먼저 결측치인 row를 전부 제거 후 예측한 뒤 0인 상태를 가지고 예측을 할 생각이다.\n",
    "# 사용할 기계학습 기법은 SVM, Logistic Regression, Decision Tree, LDA, KNN를 사용할 것이다.\n",
    "pima_df.BloodPressure = pima_df.BloodPressure.astype(int)"
   ]
  },
  {
   "cell_type": "markdown",
   "metadata": {},
   "source": [
    "# NULL인 row를 전부 제거하기"
   ]
  },
  {
   "cell_type": "code",
   "execution_count": 272,
   "metadata": {},
   "outputs": [],
   "source": [
    "pima_df_del = pd.read_csv('/root/nims_academy/Pima/data/diabetes.csv')"
   ]
  },
  {
   "cell_type": "code",
   "execution_count": 273,
   "metadata": {},
   "outputs": [],
   "source": [
    "pima_df_del.Glucose.replace(0, np.nan, inplace = True)\n",
    "pima_df_del.BloodPressure.replace(0, np.nan, inplace = True)\n",
    "pima_df_del.SkinThickness.replace(0, np.nan, inplace = True)\n",
    "pima_df_del.Insulin.replace(0, np.nan, inplace = True)\n",
    "pima_df_del.BMI.replace(0, np.nan, inplace = True)"
   ]
  },
  {
   "cell_type": "code",
   "execution_count": 274,
   "metadata": {},
   "outputs": [
    {
     "data": {
      "text/html": [
       "<div>\n",
       "<style scoped>\n",
       "    .dataframe tbody tr th:only-of-type {\n",
       "        vertical-align: middle;\n",
       "    }\n",
       "\n",
       "    .dataframe tbody tr th {\n",
       "        vertical-align: top;\n",
       "    }\n",
       "\n",
       "    .dataframe thead th {\n",
       "        text-align: right;\n",
       "    }\n",
       "</style>\n",
       "<table border=\"1\" class=\"dataframe\">\n",
       "  <thead>\n",
       "    <tr style=\"text-align: right;\">\n",
       "      <th></th>\n",
       "      <th>Pregnancies</th>\n",
       "      <th>Glucose</th>\n",
       "      <th>BloodPressure</th>\n",
       "      <th>SkinThickness</th>\n",
       "      <th>Insulin</th>\n",
       "      <th>BMI</th>\n",
       "      <th>DiabetesPedigreeFunction</th>\n",
       "      <th>Age</th>\n",
       "      <th>Outcome</th>\n",
       "    </tr>\n",
       "  </thead>\n",
       "  <tbody>\n",
       "    <tr>\n",
       "      <th>count</th>\n",
       "      <td>768.000000</td>\n",
       "      <td>763.000000</td>\n",
       "      <td>733.000000</td>\n",
       "      <td>541.000000</td>\n",
       "      <td>394.000000</td>\n",
       "      <td>757.000000</td>\n",
       "      <td>768.000000</td>\n",
       "      <td>768.000000</td>\n",
       "      <td>768.000000</td>\n",
       "    </tr>\n",
       "    <tr>\n",
       "      <th>mean</th>\n",
       "      <td>3.845052</td>\n",
       "      <td>121.686763</td>\n",
       "      <td>72.405184</td>\n",
       "      <td>29.153420</td>\n",
       "      <td>155.548223</td>\n",
       "      <td>32.457464</td>\n",
       "      <td>0.471876</td>\n",
       "      <td>33.240885</td>\n",
       "      <td>0.348958</td>\n",
       "    </tr>\n",
       "    <tr>\n",
       "      <th>std</th>\n",
       "      <td>3.369578</td>\n",
       "      <td>30.535641</td>\n",
       "      <td>12.382158</td>\n",
       "      <td>10.476982</td>\n",
       "      <td>118.775855</td>\n",
       "      <td>6.924988</td>\n",
       "      <td>0.331329</td>\n",
       "      <td>11.760232</td>\n",
       "      <td>0.476951</td>\n",
       "    </tr>\n",
       "    <tr>\n",
       "      <th>min</th>\n",
       "      <td>0.000000</td>\n",
       "      <td>44.000000</td>\n",
       "      <td>24.000000</td>\n",
       "      <td>7.000000</td>\n",
       "      <td>14.000000</td>\n",
       "      <td>18.200000</td>\n",
       "      <td>0.078000</td>\n",
       "      <td>21.000000</td>\n",
       "      <td>0.000000</td>\n",
       "    </tr>\n",
       "    <tr>\n",
       "      <th>25%</th>\n",
       "      <td>1.000000</td>\n",
       "      <td>99.000000</td>\n",
       "      <td>64.000000</td>\n",
       "      <td>22.000000</td>\n",
       "      <td>76.250000</td>\n",
       "      <td>27.500000</td>\n",
       "      <td>0.243750</td>\n",
       "      <td>24.000000</td>\n",
       "      <td>0.000000</td>\n",
       "    </tr>\n",
       "    <tr>\n",
       "      <th>50%</th>\n",
       "      <td>3.000000</td>\n",
       "      <td>117.000000</td>\n",
       "      <td>72.000000</td>\n",
       "      <td>29.000000</td>\n",
       "      <td>125.000000</td>\n",
       "      <td>32.300000</td>\n",
       "      <td>0.372500</td>\n",
       "      <td>29.000000</td>\n",
       "      <td>0.000000</td>\n",
       "    </tr>\n",
       "    <tr>\n",
       "      <th>75%</th>\n",
       "      <td>6.000000</td>\n",
       "      <td>141.000000</td>\n",
       "      <td>80.000000</td>\n",
       "      <td>36.000000</td>\n",
       "      <td>190.000000</td>\n",
       "      <td>36.600000</td>\n",
       "      <td>0.626250</td>\n",
       "      <td>41.000000</td>\n",
       "      <td>1.000000</td>\n",
       "    </tr>\n",
       "    <tr>\n",
       "      <th>max</th>\n",
       "      <td>17.000000</td>\n",
       "      <td>199.000000</td>\n",
       "      <td>122.000000</td>\n",
       "      <td>99.000000</td>\n",
       "      <td>846.000000</td>\n",
       "      <td>67.100000</td>\n",
       "      <td>2.420000</td>\n",
       "      <td>81.000000</td>\n",
       "      <td>1.000000</td>\n",
       "    </tr>\n",
       "  </tbody>\n",
       "</table>\n",
       "</div>"
      ],
      "text/plain": [
       "       Pregnancies     Glucose  BloodPressure  SkinThickness     Insulin  \\\n",
       "count   768.000000  763.000000     733.000000     541.000000  394.000000   \n",
       "mean      3.845052  121.686763      72.405184      29.153420  155.548223   \n",
       "std       3.369578   30.535641      12.382158      10.476982  118.775855   \n",
       "min       0.000000   44.000000      24.000000       7.000000   14.000000   \n",
       "25%       1.000000   99.000000      64.000000      22.000000   76.250000   \n",
       "50%       3.000000  117.000000      72.000000      29.000000  125.000000   \n",
       "75%       6.000000  141.000000      80.000000      36.000000  190.000000   \n",
       "max      17.000000  199.000000     122.000000      99.000000  846.000000   \n",
       "\n",
       "              BMI  DiabetesPedigreeFunction         Age     Outcome  \n",
       "count  757.000000                768.000000  768.000000  768.000000  \n",
       "mean    32.457464                  0.471876   33.240885    0.348958  \n",
       "std      6.924988                  0.331329   11.760232    0.476951  \n",
       "min     18.200000                  0.078000   21.000000    0.000000  \n",
       "25%     27.500000                  0.243750   24.000000    0.000000  \n",
       "50%     32.300000                  0.372500   29.000000    0.000000  \n",
       "75%     36.600000                  0.626250   41.000000    1.000000  \n",
       "max     67.100000                  2.420000   81.000000    1.000000  "
      ]
     },
     "execution_count": 274,
     "metadata": {},
     "output_type": "execute_result"
    }
   ],
   "source": [
    "pima_df_del.describe()\n",
    "# 다시 확인해보면, 0이 제거되어 정상적으로 값이 나오는 것을 확인 할 수 있다."
   ]
  },
  {
   "cell_type": "code",
   "execution_count": 275,
   "metadata": {},
   "outputs": [
    {
     "name": "stdout",
     "output_type": "stream",
     "text": [
      "Null in Glucose :  5\n",
      "Null in BloodPressure :  35\n",
      "Null in SkinThickness :  227\n",
      "Null in Insulin :  374\n",
      "Null in BMI :  11\n"
     ]
    }
   ],
   "source": [
    "print('Null in Glucose : ', pima_df_del.Glucose.isnull().sum())\n",
    "print('Null in BloodPressure : ', pima_df_del.BloodPressure.isnull().sum())\n",
    "print('Null in SkinThickness : ', pima_df_del.SkinThickness.isnull().sum())\n",
    "print('Null in Insulin : ', pima_df_del.Insulin.isnull().sum())\n",
    "print('Null in BMI : ', pima_df_del.BMI.isnull().sum())"
   ]
  },
  {
   "cell_type": "code",
   "execution_count": 276,
   "metadata": {},
   "outputs": [],
   "source": [
    "pima_df_del.dropna(inplace = True)"
   ]
  },
  {
   "cell_type": "code",
   "execution_count": 277,
   "metadata": {},
   "outputs": [],
   "source": [
    "pima_df_del.reset_index(inplace = True)"
   ]
  },
  {
   "cell_type": "code",
   "execution_count": 278,
   "metadata": {},
   "outputs": [
    {
     "data": {
      "text/plain": [
       "(392, 10)"
      ]
     },
     "execution_count": 278,
     "metadata": {},
     "output_type": "execute_result"
    }
   ],
   "source": [
    "pima_df_del.shape\n",
    "# 하나라도 결측치가 포함된 row를 전부 제거하여 데이터 셋이 768개에서 392개로 줄어든 것을 볼 수 있다."
   ]
  },
  {
   "cell_type": "code",
   "execution_count": 279,
   "metadata": {},
   "outputs": [
    {
     "name": "stdout",
     "output_type": "stream",
     "text": [
      "Null in Glucose :  0\n",
      "Null in BloodPressure :  0\n",
      "Null in SkinThickness :  0\n",
      "Null in Insulin :  0\n",
      "Null in BMI :  0\n"
     ]
    }
   ],
   "source": [
    "print('Null in Glucose : ', pima_df_del.Glucose.isnull().sum())\n",
    "print('Null in BloodPressure : ', pima_df_del.BloodPressure.isnull().sum())\n",
    "print('Null in SkinThickness : ', pima_df_del.SkinThickness.isnull().sum())\n",
    "print('Null in Insulin : ', pima_df_del.Insulin.isnull().sum())\n",
    "print('Null in BMI : ', pima_df_del.BMI.isnull().sum())\n",
    "# 모든 결측치 제거 확인"
   ]
  },
  {
   "cell_type": "code",
   "execution_count": 280,
   "metadata": {},
   "outputs": [
    {
     "data": {
      "image/png": "[encoded data removed]",
      "text/plain": [
       "<Figure size 1080x432 with 6 Axes>"
      ]
     },
     "metadata": {
      "needs_background": "light"
     },
     "output_type": "display_data"
    }
   ],
   "source": [
    "fig1, axes = plt.subplots(3, 2)\n",
    "pima_df_del.groupby(['Pregnancies']).count().iloc[:, 0].plot(kind = 'bar', ax = axes[0, 0], figsize = (15, 6))\n",
    "pima_df_del.groupby(['Glucose']).count().iloc[:, 0].plot(kind = 'bar', ax = axes[1, 0], figsize = (15, 6))\n",
    "pima_df_del.groupby(['BloodPressure']).count().iloc[:, 0].plot(kind = 'bar', ax = axes[2, 0], figsize = (15, 6))\n",
    "pima_df_del.groupby(['SkinThickness']).count().iloc[:, 0].plot(kind = 'bar', ax = axes[0, 1], figsize = (15, 6))\n",
    "pima_df_del.groupby(['Insulin']).count().iloc[:, 0].plot(kind = 'bar', ax = axes[1, 1], figsize = (15, 6))\n",
    "pima_df_del.groupby(['Age']).count().iloc[:, 0].plot(kind = 'bar', ax = axes[2, 1], figsize = (15, 6))\n",
    "\n",
    "plt.subplots_adjust(hspace = 0.5)"
   ]
  },
  {
   "cell_type": "code",
   "execution_count": 281,
   "metadata": {},
   "outputs": [
    {
     "data": {
      "text/plain": [
       "<matplotlib.axes._subplots.AxesSubplot at 0x7f512aafa650>"
      ]
     },
     "execution_count": 281,
     "metadata": {},
     "output_type": "execute_result"
    },
    {
     "data": {
      "image/png": "[encoded data removed]",
      "text/plain": [
       "<Figure size 432x288 with 1 Axes>"
      ]
     },
     "metadata": {
      "needs_background": "light"
     },
     "output_type": "display_data"
    }
   ],
   "source": [
    "(pima_df_del.groupby(['Outcome']).count()/392).iloc[:, 0].plot(kind = 'bar')"
   ]
  },
  {
   "cell_type": "code",
   "execution_count": 282,
   "metadata": {},
   "outputs": [
    {
     "name": "stdout",
     "output_type": "stream",
     "text": [
      "0.33163265306122447\n",
      "0.6683673469387755\n"
     ]
    }
   ],
   "source": [
    "print((pima_df_del.Outcome == 1).sum()/392)\n",
    "print((pima_df_del.Outcome == 0).sum()/392)\n",
    "# 30%의 데이터 불균형 발생 확인"
   ]
  },
  {
   "cell_type": "code",
   "execution_count": 463,
   "metadata": {},
   "outputs": [],
   "source": [
    "outcome = pima_df_del['Outcome']\n",
    "data=pima_df_del[pima_df_del.columns[:8]]\n",
    "train,test=train_test_split(pima_df_del,test_size=0.25,random_state=0,stratify=pima_df_del['Outcome'])\n",
    "train_X=train[train.columns[:8]]\n",
    "test_X=test[test.columns[:8]]\n",
    "train_Y=train['Outcome']\n",
    "test_Y=test['Outcome']"
   ]
  },
  {
   "cell_type": "code",
   "execution_count": 523,
   "metadata": {},
   "outputs": [
    {
     "data": {
      "text/plain": [
       "(98,)"
      ]
     },
     "execution_count": 523,
     "metadata": {},
     "output_type": "execute_result"
    }
   ],
   "source": [
    "test_Y.shape"
   ]
  },
  {
   "cell_type": "code",
   "execution_count": 537,
   "metadata": {},
   "outputs": [
    {
     "name": "stdout",
     "output_type": "stream",
     "text": [
      "Accuracy of SVM :  0.673469387755102\n",
      "Accuracy of Logistic :  0.7755102040816326\n",
      "Accuracy of DT :  0.7142857142857143\n"
     ]
    },
    {
     "data": {
      "image/png": "[encoded data removed]",
      "text/plain": [
       "<Figure size 432x288 with 1 Axes>"
      ]
     },
     "metadata": {
      "needs_background": "light"
     },
     "output_type": "display_data"
    },
    {
     "name": "stdout",
     "output_type": "stream",
     "text": [
      "Accuracies for different values of n are: [0.68367347 0.70408163 0.73469388 0.7244898  0.7755102  0.73469388\n",
      " 0.71428571 0.69387755 0.71428571 0.69387755 0.68367347 0.66326531\n",
      " 0.66326531 0.66326531 0.66326531 0.66326531 0.67346939 0.67346939\n",
      " 0.68367347 0.71428571]\n",
      "Accuracy of KNN :  0.7755102040816326\n",
      "Accuracy of LDA :  0.7959183673469388\n"
     ]
    }
   ],
   "source": [
    "model_svm=svm.SVC()\n",
    "model_svm.fit(train_X, train_Y)\n",
    "predict_svm = model_svm.predict(test_X)\n",
    "# result_svm = cross_val_score(model_svm, X, Y, cv = kfold, scoring = 'accuracy')\n",
    "# print(\"Cross Corelation of SVM : \", result_svm.mean())\n",
    "print(\"Accuracy of SVM : \", (test_Y == predict_svm).sum()/98)\n",
    "result_svm = (test_Y == predict_svm).sum()/98\n",
    "\n",
    "model_Logistic = LogisticRegression()\n",
    "model_Logistic.fit(train_X,train_Y)\n",
    "prediction_Logistic = model_Logistic.predict(test_X)\n",
    "# result_Logistic = cross_val_score(model_Logistic, X, Y, cv = kfold, scoring = 'accuracy')\n",
    "# print(\"Cross Corelation of LogisticRegression : \", result_Logistic.mean())\n",
    "print(\"Accuracy of Logistic : \", (test_Y == prediction_Logistic).sum()/98)\n",
    "result_Logistic = (test_Y == prediction_Logistic).sum()/98\n",
    "\n",
    "model_DT = DecisionTreeClassifier()\n",
    "model_DT.fit(train_X,train_Y)\n",
    "prediction_DT = model_DT.predict(test_X)\n",
    "# result_DT = cross_val_score(model_DT, X, Y, cv = kfold, scoring = 'accuracy')\n",
    "print(\"Accuracy of DT : \", (test_Y == prediction_DT).sum()/98)\n",
    "result_DT = (test_Y == prediction_DT).sum()/98\n",
    "\n",
    "node_num_idx = [i for i in range(1, 21)]\n",
    "node_num = pd.Series()\n",
    "for i in list(range(1,21)):\n",
    "    model_KNN = KNeighborsClassifier(n_neighbors=i) \n",
    "    model_KNN.fit(train_X, train_Y)\n",
    "    prediction = model_KNN.predict(test_X)\n",
    "    node_num = node_num.append(pd.Series(metrics.accuracy_score(prediction,test_Y)))\n",
    "    \n",
    "    \n",
    "plt.plot(node_num_idx, node_num)\n",
    "plt.xticks(node_num_idx)\n",
    "plt.show()\n",
    "print('Accuracies for different values of n are:',node_num.values)\n",
    "\n",
    "model_KNN = KNeighborsClassifier(n_neighbors=5) \n",
    "model_KNN.fit(train_X, train_Y)\n",
    "prediction_KNN = model_KNN.predict(test_X)\n",
    "# result_KNN = cross_val_score(model_KNN, X, Y, cv = kfold, scoring = 'accuracy')\n",
    "print(\"Accuracy of KNN : \", (test_Y == prediction_KNN).sum()/98)\n",
    "result_KNN = (test_Y == prediction_KNN).sum()/98\n",
    "\n",
    "model_LDA = LinearDiscriminantAnalysis()\n",
    "model_LDA.fit(train_X,train_Y)\n",
    "prediction_LDA = model_LDA.predict(test_X)\n",
    "# result_LDA = cross_val_score(model_LDA, X, Y, cv = kfold, scoring = 'accuracy')\n",
    "print(\"Accuracy of LDA : \", (test_Y == prediction_LDA).sum()/98)\n",
    "result_LDA = (test_Y == prediction_LDA).sum()/98\n"
   ]
  },
  {
   "cell_type": "markdown",
   "metadata": {},
   "source": [
    "# NULL인 row를 그대로 사용하기"
   ]
  },
  {
   "cell_type": "code",
   "execution_count": 538,
   "metadata": {},
   "outputs": [],
   "source": [
    "pima_df_use = pd.read_csv('/root/nims_academy/Pima/data/diabetes.csv')"
   ]
  },
  {
   "cell_type": "code",
   "execution_count": 539,
   "metadata": {},
   "outputs": [
    {
     "data": {
      "text/html": [
       "<div>\n",
       "<style scoped>\n",
       "    .dataframe tbody tr th:only-of-type {\n",
       "        vertical-align: middle;\n",
       "    }\n",
       "\n",
       "    .dataframe tbody tr th {\n",
       "        vertical-align: top;\n",
       "    }\n",
       "\n",
       "    .dataframe thead th {\n",
       "        text-align: right;\n",
       "    }\n",
       "</style>\n",
       "<table border=\"1\" class=\"dataframe\">\n",
       "  <thead>\n",
       "    <tr style=\"text-align: right;\">\n",
       "      <th></th>\n",
       "      <th>Pregnancies</th>\n",
       "      <th>Glucose</th>\n",
       "      <th>BloodPressure</th>\n",
       "      <th>SkinThickness</th>\n",
       "      <th>Insulin</th>\n",
       "      <th>BMI</th>\n",
       "      <th>DiabetesPedigreeFunction</th>\n",
       "      <th>Age</th>\n",
       "      <th>Outcome</th>\n",
       "    </tr>\n",
       "  </thead>\n",
       "  <tbody>\n",
       "    <tr>\n",
       "      <th>0</th>\n",
       "      <td>6</td>\n",
       "      <td>148</td>\n",
       "      <td>72</td>\n",
       "      <td>35</td>\n",
       "      <td>0</td>\n",
       "      <td>33.6</td>\n",
       "      <td>0.627</td>\n",
       "      <td>50</td>\n",
       "      <td>1</td>\n",
       "    </tr>\n",
       "    <tr>\n",
       "      <th>1</th>\n",
       "      <td>1</td>\n",
       "      <td>85</td>\n",
       "      <td>66</td>\n",
       "      <td>29</td>\n",
       "      <td>0</td>\n",
       "      <td>26.6</td>\n",
       "      <td>0.351</td>\n",
       "      <td>31</td>\n",
       "      <td>0</td>\n",
       "    </tr>\n",
       "    <tr>\n",
       "      <th>2</th>\n",
       "      <td>8</td>\n",
       "      <td>183</td>\n",
       "      <td>64</td>\n",
       "      <td>0</td>\n",
       "      <td>0</td>\n",
       "      <td>23.3</td>\n",
       "      <td>0.672</td>\n",
       "      <td>32</td>\n",
       "      <td>1</td>\n",
       "    </tr>\n",
       "    <tr>\n",
       "      <th>3</th>\n",
       "      <td>1</td>\n",
       "      <td>89</td>\n",
       "      <td>66</td>\n",
       "      <td>23</td>\n",
       "      <td>94</td>\n",
       "      <td>28.1</td>\n",
       "      <td>0.167</td>\n",
       "      <td>21</td>\n",
       "      <td>0</td>\n",
       "    </tr>\n",
       "    <tr>\n",
       "      <th>4</th>\n",
       "      <td>0</td>\n",
       "      <td>137</td>\n",
       "      <td>40</td>\n",
       "      <td>35</td>\n",
       "      <td>168</td>\n",
       "      <td>43.1</td>\n",
       "      <td>2.288</td>\n",
       "      <td>33</td>\n",
       "      <td>1</td>\n",
       "    </tr>\n",
       "  </tbody>\n",
       "</table>\n",
       "</div>"
      ],
      "text/plain": [
       "   Pregnancies  Glucose  BloodPressure  SkinThickness  Insulin   BMI  \\\n",
       "0            6      148             72             35        0  33.6   \n",
       "1            1       85             66             29        0  26.6   \n",
       "2            8      183             64              0        0  23.3   \n",
       "3            1       89             66             23       94  28.1   \n",
       "4            0      137             40             35      168  43.1   \n",
       "\n",
       "   DiabetesPedigreeFunction  Age  Outcome  \n",
       "0                     0.627   50        1  \n",
       "1                     0.351   31        0  \n",
       "2                     0.672   32        1  \n",
       "3                     0.167   21        0  \n",
       "4                     2.288   33        1  "
      ]
     },
     "execution_count": 539,
     "metadata": {},
     "output_type": "execute_result"
    }
   ],
   "source": [
    "pima_df_use.head()"
   ]
  },
  {
   "cell_type": "markdown",
   "metadata": {},
   "source": [
    "## First, We plot it!!!"
   ]
  },
  {
   "cell_type": "code",
   "execution_count": 540,
   "metadata": {},
   "outputs": [
    {
     "data": {
      "image/png": "[encoded data removed]",
      "text/plain": [
       "<Figure size 1080x432 with 6 Axes>"
      ]
     },
     "metadata": {
      "needs_background": "light"
     },
     "output_type": "display_data"
    }
   ],
   "source": [
    "fig2, axes = plt.subplots(3, 2)\n",
    "pima_df_use.groupby(['Pregnancies']).count().iloc[:, 0].plot(kind = 'bar', ax = axes[0, 0], figsize = (15, 6))\n",
    "pima_df_use.groupby(['Glucose']).count().iloc[:, 0].plot(kind = 'bar', ax = axes[1, 0], figsize = (15, 6))\n",
    "pima_df_use.groupby(['BloodPressure']).count().iloc[:, 0].plot(kind = 'bar', ax = axes[2, 0], figsize = (15, 6))\n",
    "pima_df_use.groupby(['SkinThickness']).count().iloc[:, 0].plot(kind = 'bar', ax = axes[0, 1], figsize = (15, 6))\n",
    "pima_df_use.groupby(['Insulin']).count().iloc[:, 0].plot(kind = 'bar', ax = axes[1, 1], figsize = (15, 6))\n",
    "pima_df_use.groupby(['Age']).count().iloc[:, 0].plot(kind = 'bar', ax = axes[2, 1], figsize = (15, 6))\n",
    "\n",
    "plt.subplots_adjust(hspace = 0.5)"
   ]
  },
  {
   "cell_type": "code",
   "execution_count": 541,
   "metadata": {},
   "outputs": [
    {
     "data": {
      "text/plain": [
       "<matplotlib.axes._subplots.AxesSubplot at 0x7f511b182c50>"
      ]
     },
     "execution_count": 541,
     "metadata": {},
     "output_type": "execute_result"
    },
    {
     "data": {
      "image/png": "[encoded data removed]",
      "text/plain": [
       "<Figure size 432x288 with 1 Axes>"
      ]
     },
     "metadata": {
      "needs_background": "light"
     },
     "output_type": "display_data"
    }
   ],
   "source": [
    "(pima_df_use.groupby(['Outcome']).count()/768).iloc[:, 0].plot(kind = 'bar')"
   ]
  },
  {
   "cell_type": "code",
   "execution_count": 542,
   "metadata": {},
   "outputs": [],
   "source": [
    "outcome = pima_df_use['Outcome']\n",
    "data=pima_df_use[pima_df_use.columns[:8]]\n",
    "train,test=train_test_split(pima_df_use,test_size=0.25,random_state=0,stratify=pima_df_use['Outcome'])\n",
    "train_X_use=train[train.columns[:8]]\n",
    "test_X_use=test[test.columns[:8]]\n",
    "train_Y_use=train['Outcome']\n",
    "test_Y_use=test['Outcome']"
   ]
  },
  {
   "cell_type": "code",
   "execution_count": 543,
   "metadata": {},
   "outputs": [
    {
     "data": {
      "text/plain": [
       "(192,)"
      ]
     },
     "execution_count": 543,
     "metadata": {},
     "output_type": "execute_result"
    }
   ],
   "source": [
    "test_Y_use.shape"
   ]
  },
  {
   "cell_type": "code",
   "execution_count": 569,
   "metadata": {},
   "outputs": [
    {
     "name": "stdout",
     "output_type": "stream",
     "text": [
      "Accuracy of SVM :  0.6510416666666666\n",
      "Accuracy of Logistic :  0.0\n",
      "Accuracy of DT :  0.78125\n"
     ]
    },
    {
     "data": {
      "image/png": "[encoded data removed]",
      "text/plain": [
       "<Figure size 432x288 with 1 Axes>"
      ]
     },
     "metadata": {
      "needs_background": "light"
     },
     "output_type": "display_data"
    },
    {
     "name": "stdout",
     "output_type": "stream",
     "text": [
      "Accuracies for different values of n are: [0.734375   0.76041667 0.72916667 0.77604167 0.75520833 0.77604167\n",
      " 0.796875   0.78125    0.765625   0.75       0.75       0.77083333\n",
      " 0.77083333 0.76041667 0.74479167 0.75       0.75520833 0.76041667\n",
      " 0.734375   0.77083333]\n",
      "Accuracy of KNN :  0.7760416666666666\n",
      "Accuracy of LDA :  0.78125\n"
     ]
    }
   ],
   "source": [
    "model_svm_use = svm.SVC()\n",
    "model_svm_use.fit(train_X_use, train_Y_use)\n",
    "predict_svm_use = model_svm_use.predict(test_X_use)\n",
    "# result_svm_use = cross_val_score(model_svm_use, X_use, Y_use, cv = kfold, scoring = 'accuracy')\n",
    "# print(\"Cross Corelation of SVM : \", result_svm_use.mean())\n",
    "print(\"Accuracy of SVM : \", (test_Y_use == predict_svm_use).sum()/192)\n",
    "result_SVM_use = (test_Y_use == predict_svm_use).sum()/192\n",
    "\n",
    "model_Logistic_use = LogisticRegression()\n",
    "model_Logistic_use.fit(train_X_use, train_Y_use)\n",
    "predict_Logistic_use = model_Logistic_use.predict(test_X_use)\n",
    "#result_Logistic_use = cross_val_score(model_Logistic_use, X_use, Y_use, cv = kfold, scoring = 'accuracy')\n",
    "print(\"Accuracy of Logistic : \", (test_Y_use == model_Logistic_use).sum()/192)\n",
    "result_Logistic_use = (test_Y_use == predict_Logistic_use).sum()/192\n",
    "\n",
    "model_DT_use = DecisionTreeClassifier()\n",
    "model_DT_use.fit(train_X_use, train_Y_use)\n",
    "predict_DT_use = model_DT_use.predict(test_X_use)\n",
    "#result_DT_use = cross_val_score(model_DT_use, X_use, Y_use, cv = kfold, scoring = 'accuracy')\n",
    "print(\"Accuracy of DT : \", (test_Y_use == predict_DT_use).sum()/192)\n",
    "result_DT_use = (test_Y_use == predict_DT_use).sum()/192\n",
    "\n",
    "node_num_idx = [i for i in range(1, 21)]\n",
    "node_num = pd.Series()\n",
    "for i in list(range(1,21)):\n",
    "    model_KNN = KNeighborsClassifier(n_neighbors=i) \n",
    "    model_KNN.fit(train_X_use, train_Y_use)\n",
    "    prediction = model_KNN.predict(test_X_use)\n",
    "    node_num = node_num.append(pd.Series(metrics.accuracy_score(prediction,test_Y_use)))\n",
    "    \n",
    "    \n",
    "plt.plot(node_num_idx, node_num)\n",
    "plt.xticks(node_num_idx)\n",
    "plt.show()\n",
    "print('Accuracies for different values of n are:',node_num.values)\n",
    "\n",
    "model_KNN_use = KNeighborsClassifier(n_neighbors=6) \n",
    "model_KNN_use.fit(train_X_use, train_Y_use)\n",
    "predict_KNN_use = model_KNN_use.predict(test_X_use)\n",
    "#result_KNN_use = cross_val_score(model_KNN_use, X_use, Y_use, cv = kfold, scoring = 'accuracy')\n",
    "print(\"Accuracy of KNN : \", (test_Y_use == predict_KNN_use).sum()/192)\n",
    "result_KNN_use = (test_Y_use == predict_KNN_use).sum()/192\n",
    "\n",
    "model_LDA_use = LinearDiscriminantAnalysis()\n",
    "model_LDA_use.fit(train_X_use, train_Y_use)\n",
    "predict_LDA_use = model_LDA_use.predict(test_X_use)\n",
    "#result_LDA_use = cross_val_score(model_LDA_use, X_use, Y_use, cv = kfold, scoring = 'accuracy')\n",
    "print(\"Accuracy of LDA : \", (test_Y_use == predict_LDA_use).sum()/192)\n",
    "result_LDA_use = (test_Y_use == predict_LDA_use).sum()/192"
   ]
  },
  {
   "cell_type": "code",
   "execution_count": 570,
   "metadata": {},
   "outputs": [],
   "source": [
    "pima_df_NC = pd.read_csv('/root/nims_academy/Pima/data/diabetes.csv')"
   ]
  },
  {
   "cell_type": "code",
   "execution_count": 571,
   "metadata": {},
   "outputs": [],
   "source": [
    "pima_df_NC.Glucose.replace(0, np.nan, inplace = True)\n",
    "pima_df_NC.BloodPressure.replace(0, np.nan, inplace = True)\n",
    "pima_df_NC.BMI.replace(0, np.nan, inplace = True)"
   ]
  },
  {
   "cell_type": "code",
   "execution_count": 572,
   "metadata": {},
   "outputs": [
    {
     "data": {
      "text/plain": [
       "Pregnancies                  0\n",
       "Glucose                      5\n",
       "BloodPressure               35\n",
       "SkinThickness                0\n",
       "Insulin                      0\n",
       "BMI                         11\n",
       "DiabetesPedigreeFunction     0\n",
       "Age                          0\n",
       "Outcome                      0\n",
       "dtype: int64"
      ]
     },
     "execution_count": 572,
     "metadata": {},
     "output_type": "execute_result"
    }
   ],
   "source": [
    "pima_df_NC.isnull().sum()"
   ]
  },
  {
   "cell_type": "code",
   "execution_count": 573,
   "metadata": {},
   "outputs": [],
   "source": [
    "pima_df_NC.Glucose = pima_df_NC.Glucose.fillna(100)\n",
    "pima_df_NC.BMI = pima_df_NC.BMI.fillna(pima_df_NC.BMI.mean())\n",
    "pima_df_NC.BloodPressure = pima_df_NC.BloodPressure.fillna(int(pima_df_NC.BloodPressure.mean()))"
   ]
  },
  {
   "cell_type": "code",
   "execution_count": 574,
   "metadata": {},
   "outputs": [],
   "source": [
    "pima_df_NC.drop(['SkinThickness', 'Insulin'], axis = 1, inplace = True)"
   ]
  },
  {
   "cell_type": "code",
   "execution_count": 575,
   "metadata": {},
   "outputs": [
    {
     "data": {
      "image/png": "[encoded data removed]",
      "text/plain": [
       "<Figure size 1080x432 with 4 Axes>"
      ]
     },
     "metadata": {
      "needs_background": "light"
     },
     "output_type": "display_data"
    }
   ],
   "source": [
    "fig3, axes = plt.subplots(2, 2)\n",
    "pima_df_NC.groupby(['Pregnancies']).count().iloc[:, 0].plot(kind = 'bar', ax = axes[0, 0], figsize = (15, 6))\n",
    "pima_df_NC.groupby(['Glucose']).count().iloc[:, 0].plot(kind = 'bar', ax = axes[1, 0], figsize = (15, 6))\n",
    "pima_df_NC.groupby(['BloodPressure']).count().iloc[:, 0].plot(kind = 'bar', ax = axes[0, 1], figsize = (15, 6))\n",
    "pima_df_NC.groupby(['Age']).count().iloc[:, 0].plot(kind = 'bar', ax = axes[1, 1], figsize = (15, 6))\n",
    "\n",
    "plt.subplots_adjust(hspace = 0.5)"
   ]
  },
  {
   "cell_type": "code",
   "execution_count": 576,
   "metadata": {},
   "outputs": [],
   "source": [
    "outcome = pima_df_NC['Outcome']\n",
    "data=pima_df_NC[pima_df_NC.columns[:5]]\n",
    "train,test=train_test_split(pima_df_NC,test_size=0.25,random_state=0,stratify=pima_df_use['Outcome'])\n",
    "train_X_NC=train[train.columns[:5]]\n",
    "test_X_NC=test[test.columns[:5]]\n",
    "train_Y_NC=train['Outcome']\n",
    "test_Y_NC=test['Outcome']"
   ]
  },
  {
   "cell_type": "code",
   "execution_count": 620,
   "metadata": {},
   "outputs": [
    {
     "name": "stdout",
     "output_type": "stream",
     "text": [
      "Accuracy of SVM :  0.6510416666666666\n",
      "Accuracy of Logistic :  0.7864583333333334\n",
      "Accuracy of DT :  0.7291666666666666\n"
     ]
    },
    {
     "data": {
      "image/png": "[encoded data removed]",
      "text/plain": [
       "<Figure size 432x288 with 1 Axes>"
      ]
     },
     "metadata": {
      "needs_background": "light"
     },
     "output_type": "display_data"
    },
    {
     "name": "stdout",
     "output_type": "stream",
     "text": [
      "Accuracies for different values of n are: [0.69270833 0.703125   0.734375   0.734375   0.75       0.734375\n",
      " 0.75520833 0.77083333 0.76041667 0.75       0.77604167 0.78645833\n",
      " 0.765625   0.78125    0.75520833 0.765625   0.75520833 0.765625\n",
      " 0.77604167 0.79166667]\n",
      "Accuracy of KNN :  0.7916666666666666\n",
      "Accuracy of LDA :  0.7604166666666666\n"
     ]
    }
   ],
   "source": [
    "model_svm_NC = svm.SVC(probability = True)\n",
    "model_svm_NC.fit(train_X_NC, train_Y_NC)\n",
    "predict_svm_NC = model_svm_NC.predict(test_X_NC)\n",
    "#result_svm_NC = cross_val_score(model_svm_use, X_NC, Y_NC, cv = kfold, scoring = 'accuracy')\n",
    "print(\"Accuracy of SVM : \", (test_Y_NC == predict_svm_NC).sum()/192)\n",
    "result_SVM_NC = (test_Y_NC == predict_svm_NC).sum()/192\n",
    "\n",
    "model_Logistic_NC = LogisticRegression()\n",
    "model_Logistic_NC.fit(train_X_NC, train_Y_NC)\n",
    "predict_Logistic_NC = model_Logistic_NC.predict(test_X_NC)\n",
    "#result_Logistic_NC = cross_val_score(model_Logistic_use, X_NC, Y_NC, cv = kfold, scoring = 'accuracy')\n",
    "print(\"Accuracy of Logistic : \", (test_Y_NC == predict_Logistic_NC).sum()/192)\n",
    "result_Logistic_NC = (test_Y_NC == predict_Logistic_NC).sum()/192\n",
    "\n",
    "model_DT_NC = DecisionTreeClassifier()\n",
    "model_DT_NC.fit(train_X_NC, train_Y_NC)\n",
    "predict_DT_NC = model_DT_NC.predict(test_X_NC)\n",
    "#result_DT_NC = cross_val_score(model_DT_use, X_NC, Y_NC, cv = kfold, scoring = 'accuracy')\n",
    "print(\"Accuracy of DT : \", (test_Y_NC == predict_DT_NC).sum()/192)\n",
    "result_DT_NC = (test_Y_NC == predict_DT_NC).sum()/192\n",
    "\n",
    "node_num_idx = [i for i in range(1, 21)]\n",
    "node_num = pd.Series()\n",
    "for i in list(range(1,21)):\n",
    "    model_KNN = KNeighborsClassifier(n_neighbors=i) \n",
    "    model_KNN.fit(train_X_NC, train_Y_NC)\n",
    "    prediction = model_KNN.predict(test_X_NC)\n",
    "    node_num = node_num.append(pd.Series(metrics.accuracy_score(prediction,test_Y_NC)))\n",
    "    \n",
    "    \n",
    "plt.plot(node_num_idx, node_num)\n",
    "plt.xticks(node_num_idx)\n",
    "plt.show()\n",
    "print('Accuracies for different values of n are:',node_num.values)\n",
    "\n",
    "model_KNN_NC = KNeighborsClassifier(n_neighbors=20) \n",
    "model_KNN_NC.fit(train_X_NC, train_Y_NC)\n",
    "predict_KNN_NC = model_KNN_NC.predict(test_X_NC)\n",
    "#result_KNN_NC = cross_val_score(model_KNN_use, X_NC, Y_NC, cv = kfold, scoring = 'accuracy')\n",
    "print(\"Accuracy of KNN : \", (test_Y_NC == predict_KNN_NC).sum()/192)\n",
    "result_KNN_NC = (test_Y_NC == predict_KNN_NC).sum()/192\n",
    "\n",
    "model_LDA_NC = LinearDiscriminantAnalysis()\n",
    "model_LDA_NC.fit(train_X_NC, train_Y_NC)\n",
    "predict_LDA_NC = model_LDA_NC.predict(test_X_NC)\n",
    "#result_LDA_NC = cross_val_score(model_LDA_use, X_NC, Y_NC, cv = kfold, scoring = 'accuracy')\n",
    "print(\"Accuracy of LDA : \", (test_Y_NC == predict_LDA_NC).sum()/192)\n",
    "result_LDA_NC = (test_Y_NC == predict_LDA_NC).sum()/192"
   ]
  },
  {
   "cell_type": "code",
   "execution_count": 578,
   "metadata": {},
   "outputs": [],
   "source": [
    "acc_df = pd.DataFrame([result_svm, result_Logistic, result_DT, result_KNN, result_LDA],\n",
    "                      index = ['SVM', 'Logistic', 'DT', 'KNN', 'LDA'],\n",
    "                      columns = ['No'])"
   ]
  },
  {
   "cell_type": "code",
   "execution_count": 579,
   "metadata": {},
   "outputs": [],
   "source": [
    "acc_df['USE'] = [result_SVM_use, result_Logistic_use, result_DT_use, result_KNN_use, result_LDA_use]\n",
    "acc_df['NC'] = [result_SVM_NC, result_Logistic_NC, result_DT_NC, result_KNN_NC, result_LDA_NC]"
   ]
  },
  {
   "cell_type": "code",
   "execution_count": 580,
   "metadata": {},
   "outputs": [
    {
     "data": {
      "text/html": [
       "<div>\n",
       "<style scoped>\n",
       "    .dataframe tbody tr th:only-of-type {\n",
       "        vertical-align: middle;\n",
       "    }\n",
       "\n",
       "    .dataframe tbody tr th {\n",
       "        vertical-align: top;\n",
       "    }\n",
       "\n",
       "    .dataframe thead th {\n",
       "        text-align: right;\n",
       "    }\n",
       "</style>\n",
       "<table border=\"1\" class=\"dataframe\">\n",
       "  <thead>\n",
       "    <tr style=\"text-align: right;\">\n",
       "      <th></th>\n",
       "      <th>No</th>\n",
       "      <th>USE</th>\n",
       "      <th>NC</th>\n",
       "    </tr>\n",
       "  </thead>\n",
       "  <tbody>\n",
       "    <tr>\n",
       "      <th>SVM</th>\n",
       "      <td>0.673469</td>\n",
       "      <td>0.651042</td>\n",
       "      <td>0.651042</td>\n",
       "    </tr>\n",
       "    <tr>\n",
       "      <th>Logistic</th>\n",
       "      <td>0.775510</td>\n",
       "      <td>0.776042</td>\n",
       "      <td>0.786458</td>\n",
       "    </tr>\n",
       "    <tr>\n",
       "      <th>DT</th>\n",
       "      <td>0.714286</td>\n",
       "      <td>0.781250</td>\n",
       "      <td>0.760417</td>\n",
       "    </tr>\n",
       "    <tr>\n",
       "      <th>KNN</th>\n",
       "      <td>0.775510</td>\n",
       "      <td>0.776042</td>\n",
       "      <td>0.791667</td>\n",
       "    </tr>\n",
       "    <tr>\n",
       "      <th>LDA</th>\n",
       "      <td>0.795918</td>\n",
       "      <td>0.781250</td>\n",
       "      <td>0.760417</td>\n",
       "    </tr>\n",
       "  </tbody>\n",
       "</table>\n",
       "</div>"
      ],
      "text/plain": [
       "                No       USE        NC\n",
       "SVM       0.673469  0.651042  0.651042\n",
       "Logistic  0.775510  0.776042  0.786458\n",
       "DT        0.714286  0.781250  0.760417\n",
       "KNN       0.775510  0.776042  0.791667\n",
       "LDA       0.795918  0.781250  0.760417"
      ]
     },
     "execution_count": 580,
     "metadata": {},
     "output_type": "execute_result"
    }
   ],
   "source": [
    "acc_df"
   ]
  },
  {
   "cell_type": "code",
   "execution_count": 581,
   "metadata": {},
   "outputs": [
    {
     "data": {
      "text/plain": [
       "<matplotlib.axes._subplots.AxesSubplot at 0x7f511c643650>"
      ]
     },
     "execution_count": 581,
     "metadata": {},
     "output_type": "execute_result"
    },
    {
     "data": {
      "image/png": "[encoded data removed]",
      "text/plain": [
       "<Figure size 1080x432 with 1 Axes>"
      ]
     },
     "metadata": {
      "needs_background": "light"
     },
     "output_type": "display_data"
    }
   ],
   "source": [
    "acc_df.plot(kind = 'bar', figsize = (15, 6))"
   ]
  },
  {
   "cell_type": "code",
   "execution_count": 592,
   "metadata": {},
   "outputs": [
    {
     "data": {
      "text/plain": [
       "<matplotlib.axes._subplots.AxesSubplot at 0x7f5118d807d0>"
      ]
     },
     "execution_count": 592,
     "metadata": {},
     "output_type": "execute_result"
    },
    {
     "data": {
      "image/png": "[encoded data removed]",
      "text/plain": [
       "<Figure size 432x288 with 2 Axes>"
      ]
     },
     "metadata": {
      "needs_background": "light"
     },
     "output_type": "display_data"
    }
   ],
   "source": [
    "sns.heatmap(confusion_matrix(prediction_LDA, test_Y), annot=True, fmt='d')"
   ]
  },
  {
   "cell_type": "code",
   "execution_count": 605,
   "metadata": {},
   "outputs": [
    {
     "name": "stdout",
     "output_type": "stream",
     "text": [
      "-----------------------------------------------------\n",
      "              precision    recall  f1-score   support\n",
      "\n",
      "           0       0.82      0.89      0.86        66\n",
      "           1       0.73      0.59      0.66        32\n",
      "\n",
      "    accuracy                           0.80        98\n",
      "   macro avg       0.78      0.74      0.76        98\n",
      "weighted avg       0.79      0.80      0.79        98\n",
      "\n",
      "-----------------------------------------------------\n"
     ]
    }
   ],
   "source": [
    "print(\"-----------------------------------------------------\")\n",
    "print(classification_report(test_Y, prediction_LDA))\n",
    "print(\"-----------------------------------------------------\")\n",
    "\n",
    "# Accuracy : 실제로 당뇨/당뇨가 아닌 사람을 맞춘 비율 = (TP+TN)/(TP+TN+FP+FN)\n",
    "# Precision : 당뇨라고 예측한 거 중에서 실제 당뇨인 사람의 비율/당뇨가 아니라고 예측한 거 중에서 실제로 당뇨가 아닌 사람의 비율 = TP/(TP+FP)\n",
    "# Recall : 당뇨 중에서 당뇨라고 예측한 사람의 비율/당뇨가 아닌 사람 중에서 당뇨가 아니라고 예측한 사람의 비율 = TP/(TP+FN)"
   ]
  },
  {
   "cell_type": "code",
   "execution_count": 595,
   "metadata": {},
   "outputs": [
    {
     "data": {
      "text/plain": [
       "<matplotlib.axes._subplots.AxesSubplot at 0x7f5118c84650>"
      ]
     },
     "execution_count": 595,
     "metadata": {},
     "output_type": "execute_result"
    },
    {
     "data": {
      "image/png": "[encoded data removed]",
      "text/plain": [
       "<Figure size 432x288 with 2 Axes>"
      ]
     },
     "metadata": {
      "needs_background": "light"
     },
     "output_type": "display_data"
    }
   ],
   "source": [
    "sns.heatmap(confusion_matrix(predict_KNN_NC, test_Y_NC), annot=True, fmt='d')"
   ]
  },
  {
   "cell_type": "code",
   "execution_count": 596,
   "metadata": {},
   "outputs": [
    {
     "name": "stdout",
     "output_type": "stream",
     "text": [
      "-----------------------------------------------------\n",
      "              precision    recall  f1-score   support\n",
      "\n",
      "           0       0.79      0.92      0.85       125\n",
      "           1       0.79      0.55      0.65        67\n",
      "\n",
      "    accuracy                           0.79       192\n",
      "   macro avg       0.79      0.74      0.75       192\n",
      "weighted avg       0.79      0.79      0.78       192\n",
      "\n",
      "-----------------------------------------------------\n"
     ]
    }
   ],
   "source": [
    "print(\"-----------------------------------------------------\")\n",
    "print(classification_report(test_Y_NC, predict_KNN_NC))\n",
    "print(\"-----------------------------------------------------\")"
   ]
  },
  {
   "cell_type": "code",
   "execution_count": 597,
   "metadata": {},
   "outputs": [
    {
     "data": {
      "text/plain": [
       "<matplotlib.axes._subplots.AxesSubplot at 0x7f5118c1ce10>"
      ]
     },
     "execution_count": 597,
     "metadata": {},
     "output_type": "execute_result"
    },
    {
     "data": {
      "image/png": "[encoded data removed]",
      "text/plain": [
       "<Figure size 432x288 with 2 Axes>"
      ]
     },
     "metadata": {
      "needs_background": "light"
     },
     "output_type": "display_data"
    }
   ],
   "source": [
    "sns.heatmap(confusion_matrix(predict_Logistic_NC, test_Y_NC), annot=True, fmt='d')"
   ]
  },
  {
   "cell_type": "code",
   "execution_count": 598,
   "metadata": {},
   "outputs": [
    {
     "name": "stdout",
     "output_type": "stream",
     "text": [
      "-----------------------------------------------------\n",
      "              precision    recall  f1-score   support\n",
      "\n",
      "           0       0.80      0.90      0.85       125\n",
      "           1       0.75      0.58      0.66        67\n",
      "\n",
      "    accuracy                           0.79       192\n",
      "   macro avg       0.78      0.74      0.75       192\n",
      "weighted avg       0.78      0.79      0.78       192\n",
      "\n",
      "-----------------------------------------------------\n"
     ]
    }
   ],
   "source": [
    "print(\"-----------------------------------------------------\")\n",
    "print(classification_report(test_Y_NC, predict_Logistic_NC))\n",
    "print(\"-----------------------------------------------------\")"
   ]
  },
  {
   "cell_type": "code",
   "execution_count": 599,
   "metadata": {},
   "outputs": [
    {
     "data": {
      "text/plain": [
       "<matplotlib.axes._subplots.AxesSubplot at 0x7f5118b47a10>"
      ]
     },
     "execution_count": 599,
     "metadata": {},
     "output_type": "execute_result"
    },
    {
     "data": {
      "image/png": "[encoded data removed]",
      "text/plain": [
       "<Figure size 432x288 with 2 Axes>"
      ]
     },
     "metadata": {
      "needs_background": "light"
     },
     "output_type": "display_data"
    }
   ],
   "source": [
    "sns.heatmap(confusion_matrix(predict_DT_use, test_Y_use), annot=True, fmt='d')"
   ]
  },
  {
   "cell_type": "code",
   "execution_count": 600,
   "metadata": {},
   "outputs": [
    {
     "name": "stdout",
     "output_type": "stream",
     "text": [
      "-----------------------------------------------------\n",
      "              precision    recall  f1-score   support\n",
      "\n",
      "           0       0.82      0.85      0.83       125\n",
      "           1       0.70      0.66      0.68        67\n",
      "\n",
      "    accuracy                           0.78       192\n",
      "   macro avg       0.76      0.75      0.76       192\n",
      "weighted avg       0.78      0.78      0.78       192\n",
      "\n",
      "-----------------------------------------------------\n"
     ]
    }
   ],
   "source": [
    "print(\"-----------------------------------------------------\")\n",
    "print(classification_report(test_Y_use, predict_DT_use))\n",
    "print(\"-----------------------------------------------------\")"
   ]
  },
  {
   "cell_type": "code",
   "execution_count": 601,
   "metadata": {},
   "outputs": [
    {
     "data": {
      "text/plain": [
       "<matplotlib.axes._subplots.AxesSubplot at 0x7f5118aecb10>"
      ]
     },
     "execution_count": 601,
     "metadata": {},
     "output_type": "execute_result"
    },
    {
     "data": {
      "image/png": "[encoded data removed]",
      "text/plain": [
       "<Figure size 432x288 with 2 Axes>"
      ]
     },
     "metadata": {
      "needs_background": "light"
     },
     "output_type": "display_data"
    }
   ],
   "source": [
    "sns.heatmap(confusion_matrix(predict_LDA_use, test_Y_use), annot=True, fmt='d')"
   ]
  },
  {
   "cell_type": "code",
   "execution_count": 602,
   "metadata": {},
   "outputs": [
    {
     "name": "stdout",
     "output_type": "stream",
     "text": [
      "-----------------------------------------------------\n",
      "              precision    recall  f1-score   support\n",
      "\n",
      "           0       0.80      0.89      0.84       125\n",
      "           1       0.74      0.58      0.65        67\n",
      "\n",
      "    accuracy                           0.78       192\n",
      "   macro avg       0.77      0.74      0.75       192\n",
      "weighted avg       0.78      0.78      0.77       192\n",
      "\n",
      "-----------------------------------------------------\n"
     ]
    }
   ],
   "source": [
    "print(\"-----------------------------------------------------\")\n",
    "print(classification_report(test_Y_use, predict_LDA_use))\n",
    "print(\"-----------------------------------------------------\")"
   ]
  },
  {
   "cell_type": "code",
   "execution_count": 699,
   "metadata": {},
   "outputs": [
    {
     "data": {
      "text/plain": [
       "VotingClassifier(estimators=[('log',\n",
       "                              LogisticRegression(C=1.0, class_weight=None,\n",
       "                                                 dual=False, fit_intercept=True,\n",
       "                                                 intercept_scaling=1,\n",
       "                                                 l1_ratio=None, max_iter=100,\n",
       "                                                 multi_class='warn',\n",
       "                                                 n_jobs=None, penalty='l2',\n",
       "                                                 random_state=None,\n",
       "                                                 solver='warn', tol=0.0001,\n",
       "                                                 verbose=0, warm_start=False)),\n",
       "                             ('DT',\n",
       "                              DecisionTreeClassifier(class_weight=None,\n",
       "                                                     criterion='gini',\n",
       "                                                     max_depth=None...\n",
       "                                                     splitter='best')),\n",
       "                             ('KNN',\n",
       "                              KNeighborsClassifier(algorithm='auto',\n",
       "                                                   leaf_size=30,\n",
       "                                                   metric='minkowski',\n",
       "                                                   metric_params=None,\n",
       "                                                   n_jobs=None, n_neighbors=20,\n",
       "                                                   p=2, weights='uniform')),\n",
       "                             ('LDA',\n",
       "                              LinearDiscriminantAnalysis(n_components=None,\n",
       "                                                         priors=None,\n",
       "                                                         shrinkage=None,\n",
       "                                                         solver='svd',\n",
       "                                                         store_covariance=False,\n",
       "                                                         tol=0.0001))],\n",
       "                 flatten_transform=True, n_jobs=None, voting='soft',\n",
       "                 weights=None)"
      ]
     },
     "execution_count": 699,
     "metadata": {},
     "output_type": "execute_result"
    }
   ],
   "source": [
    "voting_NC = VotingClassifier(\n",
    "    estimators=[('log', model_Logistic_NC), ('DT', model_DT_NC), ('KNN', model_KNN_NC), ('LDA', model_LDA_NC)],\n",
    "    voting='soft')\n",
    "\n",
    "voting_NC.fit(train_X_NC, train_Y_NC)"
   ]
  },
  {
   "cell_type": "code",
   "execution_count": 700,
   "metadata": {},
   "outputs": [],
   "source": [
    "predict_vote_NC = voting_NC.predict(test_X_NC)"
   ]
  },
  {
   "cell_type": "code",
   "execution_count": 701,
   "metadata": {},
   "outputs": [
    {
     "name": "stdout",
     "output_type": "stream",
     "text": [
      "-----------------------------------------------------\n",
      "              precision    recall  f1-score   support\n",
      "\n",
      "           0       0.86      0.82      0.84       132\n",
      "           1       0.64      0.72      0.68        60\n",
      "\n",
      "    accuracy                           0.79       192\n",
      "   macro avg       0.75      0.77      0.76       192\n",
      "weighted avg       0.79      0.79      0.79       192\n",
      "\n",
      "-----------------------------------------------------\n"
     ]
    },
    {
     "data": {
      "image/png": "[encoded data removed]",
      "text/plain": [
       "<Figure size 432x288 with 2 Axes>"
      ]
     },
     "metadata": {
      "needs_background": "light"
     },
     "output_type": "display_data"
    }
   ],
   "source": [
    "sns.heatmap(confusion_matrix(predict_vote_NC, test_Y_NC), annot=True, fmt='d')\n",
    "print(\"-----------------------------------------------------\")\n",
    "print(classification_report(predict_vote_NC, test_Y_NC))\n",
    "print(\"-----------------------------------------------------\")"
   ]
  },
  {
   "cell_type": "code",
   "execution_count": 679,
   "metadata": {},
   "outputs": [
    {
     "data": {
      "text/plain": [
       "BaggingClassifier(base_estimator=KNeighborsClassifier(algorithm='auto',\n",
       "                                                      leaf_size=30,\n",
       "                                                      metric='minkowski',\n",
       "                                                      metric_params=None,\n",
       "                                                      n_jobs=None,\n",
       "                                                      n_neighbors=20, p=2,\n",
       "                                                      weights='uniform'),\n",
       "                  bootstrap=True, bootstrap_features=False, max_features=1.0,\n",
       "                  max_samples=100, n_estimators=500, n_jobs=-1, oob_score=True,\n",
       "                  random_state=42, verbose=0, warm_start=False)"
      ]
     },
     "execution_count": 679,
     "metadata": {},
     "output_type": "execute_result"
    }
   ],
   "source": [
    "bagging_NC = BaggingClassifier(\n",
    "    model_KNN_NC, n_estimators=500,\n",
    "    max_samples=100, bootstrap=True, n_jobs=-1, random_state=42, oob_score = True)\n",
    "\n",
    "bagging_NC.fit(train_X_NC, train_Y_NC)"
   ]
  },
  {
   "cell_type": "code",
   "execution_count": 686,
   "metadata": {},
   "outputs": [],
   "source": [
    "predict_bag_NC = bagging_NC.predict(test_X_NC)"
   ]
  },
  {
   "cell_type": "code",
   "execution_count": 687,
   "metadata": {},
   "outputs": [
    {
     "name": "stdout",
     "output_type": "stream",
     "text": [
      "-----------------------------------------------------\n",
      "              precision    recall  f1-score   support\n",
      "\n",
      "           0       0.90      0.78      0.83       144\n",
      "           1       0.52      0.73      0.61        48\n",
      "\n",
      "    accuracy                           0.77       192\n",
      "   macro avg       0.71      0.75      0.72       192\n",
      "weighted avg       0.80      0.77      0.78       192\n",
      "\n",
      "-----------------------------------------------------\n"
     ]
    },
    {
     "data": {
      "image/png": "[encoded data removed]",
      "text/plain": [
       "<Figure size 432x288 with 2 Axes>"
      ]
     },
     "metadata": {
      "needs_background": "light"
     },
     "output_type": "display_data"
    }
   ],
   "source": [
    "sns.heatmap(confusion_matrix(predict_bag_NC, test_Y_NC), annot=True, fmt='d')\n",
    "print(\"-----------------------------------------------------\")\n",
    "print(classification_report(predict_bag_NC, test_Y_NC))\n",
    "print(\"-----------------------------------------------------\")"
   ]
  },
  {
   "cell_type": "code",
   "execution_count": 690,
   "metadata": {},
   "outputs": [
    {
     "data": {
      "text/plain": [
       "ExtraTreesClassifier(bootstrap=False, class_weight=None, criterion='gini',\n",
       "                     max_depth=None, max_features='auto', max_leaf_nodes=16,\n",
       "                     min_impurity_decrease=0.0, min_impurity_split=None,\n",
       "                     min_samples_leaf=1, min_samples_split=2,\n",
       "                     min_weight_fraction_leaf=0.0, n_estimators=500, n_jobs=-1,\n",
       "                     oob_score=False, random_state=42, verbose=0,\n",
       "                     warm_start=False)"
      ]
     },
     "execution_count": 690,
     "metadata": {},
     "output_type": "execute_result"
    }
   ],
   "source": [
    "ExtraTrees_NC = ExtraTreesClassifier(n_estimators=500, max_leaf_nodes=16, n_jobs=-1, random_state=42)\n",
    "\n",
    "ExtraTrees_NC.fit(train_X_NC, train_Y_NC)"
   ]
  },
  {
   "cell_type": "code",
   "execution_count": 691,
   "metadata": {},
   "outputs": [],
   "source": [
    "predict_EXT_NC = ExtraTrees_NC.predict(test_X_NC)"
   ]
  },
  {
   "cell_type": "code",
   "execution_count": 692,
   "metadata": {},
   "outputs": [
    {
     "name": "stdout",
     "output_type": "stream",
     "text": [
      "-----------------------------------------------------\n",
      "              precision    recall  f1-score   support\n",
      "\n",
      "           0       0.91      0.78      0.84       146\n",
      "           1       0.52      0.76      0.62        46\n",
      "\n",
      "    accuracy                           0.78       192\n",
      "   macro avg       0.72      0.77      0.73       192\n",
      "weighted avg       0.82      0.78      0.79       192\n",
      "\n",
      "-----------------------------------------------------\n"
     ]
    },
    {
     "data": {
      "image/png": "[encoded data removed]",
      "text/plain": [
       "<Figure size 432x288 with 2 Axes>"
      ]
     },
     "metadata": {
      "needs_background": "light"
     },
     "output_type": "display_data"
    }
   ],
   "source": [
    "sns.heatmap(confusion_matrix(predict_EXT_NC, test_Y_NC), annot=True, fmt='d')\n",
    "print(\"-----------------------------------------------------\")\n",
    "print(classification_report(predict_EXT_NC, test_Y_NC))\n",
    "print(\"-----------------------------------------------------\")"
   ]
  },
  {
   "cell_type": "code",
   "execution_count": 695,
   "metadata": {},
   "outputs": [
    {
     "data": {
      "text/plain": [
       "AdaBoostClassifier(algorithm='SAMME.R',\n",
       "                   base_estimator=DecisionTreeClassifier(class_weight=None,\n",
       "                                                         criterion='gini',\n",
       "                                                         max_depth=None,\n",
       "                                                         max_features=None,\n",
       "                                                         max_leaf_nodes=None,\n",
       "                                                         min_impurity_decrease=0.0,\n",
       "                                                         min_impurity_split=None,\n",
       "                                                         min_samples_leaf=1,\n",
       "                                                         min_samples_split=2,\n",
       "                                                         min_weight_fraction_leaf=0.0,\n",
       "                                                         presort=False,\n",
       "                                                         random_state=None,\n",
       "                                                         splitter='best'),\n",
       "                   learning_rate=0.5, n_estimators=200, random_state=42)"
      ]
     },
     "execution_count": 695,
     "metadata": {},
     "output_type": "execute_result"
    }
   ],
   "source": [
    "AdaBoostClassifier\n",
    "\n",
    "ADA_NC = AdaBoostClassifier(\n",
    "    model_DT_NC, n_estimators=200,\n",
    "    algorithm=\"SAMME.R\", learning_rate=0.5, random_state=42)\n",
    "\n",
    "ADA_NC.fit(train_X_NC, train_Y_NC)"
   ]
  },
  {
   "cell_type": "code",
   "execution_count": 696,
   "metadata": {},
   "outputs": [],
   "source": [
    "predict_ADA_NC = ADA_NC.predict(test_X_NC)"
   ]
  },
  {
   "cell_type": "code",
   "execution_count": 698,
   "metadata": {},
   "outputs": [
    {
     "name": "stdout",
     "output_type": "stream",
     "text": [
      "-----------------------------------------------------\n",
      "              precision    recall  f1-score   support\n",
      "\n",
      "           0       0.83      0.76      0.79       137\n",
      "           1       0.51      0.62      0.56        55\n",
      "\n",
      "    accuracy                           0.72       192\n",
      "   macro avg       0.67      0.69      0.68       192\n",
      "weighted avg       0.74      0.72      0.73       192\n",
      "\n",
      "-----------------------------------------------------\n"
     ]
    },
    {
     "data": {
      "image/png": "[encoded data removed]",
      "text/plain": [
       "<Figure size 432x288 with 2 Axes>"
      ]
     },
     "metadata": {
      "needs_background": "light"
     },
     "output_type": "display_data"
    }
   ],
   "source": [
    "sns.heatmap(confusion_matrix(predict_ADA_NC, test_Y_NC), annot=True, fmt='d')\n",
    "print(\"-----------------------------------------------------\")\n",
    "print(classification_report(predict_ADA_NC, test_Y_NC))\n",
    "print(\"-----------------------------------------------------\")"
   ]
  },
  {
   "cell_type": "code",
   "execution_count": 1048,
   "metadata": {},
   "outputs": [],
   "source": [
    "def plot_model_history(model_history):\n",
    "    fig, axs = plt.subplots(1,2,figsize=(15,5))\n",
    "    # summarize history for accuracy\n",
    "    axs[0].plot(range(1,len(model_history.history['acc'])+1),model_history.history['acc'])\n",
    "    axs[0].plot(range(1,len(model_history.history['val_acc'])+1),model_history.history['val_acc'])\n",
    "    axs[0].set_title('Model Accuracy')\n",
    "    axs[0].set_ylabel('Accuracy')\n",
    "    axs[0].set_xlabel('Epoch')\n",
    "    axs[0].set_xticks(np.arange(1,len(model_history.history['acc'])+1),len(model_history.history['acc'])/10)\n",
    "    axs[0].legend(['train', 'val'], loc='best')\n",
    "    # summarize history for loss\n",
    "    axs[1].plot(range(1,len(model_history.history['loss'])+1),model_history.history['loss'])\n",
    "    axs[1].plot(range(1,len(model_history.history['val_loss'])+1),model_history.history['val_loss'])\n",
    "    axs[1].set_title('Model Loss')\n",
    "    axs[1].set_ylabel('Loss')\n",
    "    axs[1].set_xlabel('Epoch')\n",
    "    axs[1].set_xticks(np.arange(1,len(model_history.history['loss'])+1),len(model_history.history['loss'])/10)\n",
    "    axs[1].legend(['train', 'val'], loc='best')\n",
    "    plt.show()"
   ]
  },
  {
   "cell_type": "code",
   "execution_count": 1144,
   "metadata": {},
   "outputs": [],
   "source": [
    "from sklearn.preprocessing import StandardScaler\n",
    "from keras.utils.np_utils import to_categorical\n",
    "from keras.wrappers.scikit_learn import KerasClassifier\n",
    "import numpy as np\n",
    "from keras import Sequential\n",
    "from keras.layers import Dense, Dropout, BatchNormalization\n",
    "from keras.callbacks import EarlyStopping"
   ]
  },
  {
   "cell_type": "code",
   "execution_count": 1210,
   "metadata": {},
   "outputs": [],
   "source": [
    "diabete = pd.read_csv('/root/nims_academy/Pima/data/diabetes.csv')"
   ]
  },
  {
   "cell_type": "code",
   "execution_count": 1212,
   "metadata": {},
   "outputs": [],
   "source": [
    "diabete.Glucose.replace(0, np.nan, inplace = True)\n",
    "diabete.BloodPressure.replace(0, np.nan, inplace = True)\n",
    "diabete.SkinThickness.replace(0, np.nan, inplace = True)\n",
    "diabete.Insulin.replace(0, np.nan, inplace = True)\n",
    "diabete.BMI.replace(0, np.nan, inplace = True)"
   ]
  },
  {
   "cell_type": "code",
   "execution_count": 1216,
   "metadata": {},
   "outputs": [],
   "source": [
    "diabete.Glucose = diabete.Glucose.fillna(100)\n",
    "diabete.BMI = diabete.BMI.fillna(diabete.BMI.mean())\n",
    "diabete.BloodPressure = diabete.BloodPressure.fillna(int(diabete.BloodPressure.mean()))"
   ]
  },
  {
   "cell_type": "code",
   "execution_count": 1221,
   "metadata": {},
   "outputs": [],
   "source": [
    "diabete = diabete.dropna()"
   ]
  },
  {
   "cell_type": "code",
   "execution_count": 1231,
   "metadata": {},
   "outputs": [
    {
     "data": {
      "text/html": [
       "<div>\n",
       "<style scoped>\n",
       "    .dataframe tbody tr th:only-of-type {\n",
       "        vertical-align: middle;\n",
       "    }\n",
       "\n",
       "    .dataframe tbody tr th {\n",
       "        vertical-align: top;\n",
       "    }\n",
       "\n",
       "    .dataframe thead th {\n",
       "        text-align: right;\n",
       "    }\n",
       "</style>\n",
       "<table border=\"1\" class=\"dataframe\">\n",
       "  <thead>\n",
       "    <tr style=\"text-align: right;\">\n",
       "      <th></th>\n",
       "      <th>Pregnancies</th>\n",
       "      <th>Glucose</th>\n",
       "      <th>BloodPressure</th>\n",
       "      <th>SkinThickness</th>\n",
       "      <th>Insulin</th>\n",
       "      <th>BMI</th>\n",
       "      <th>DiabetesPedigreeFunction</th>\n",
       "      <th>Age</th>\n",
       "      <th>Outcome</th>\n",
       "    </tr>\n",
       "  </thead>\n",
       "  <tbody>\n",
       "    <tr>\n",
       "      <th>3</th>\n",
       "      <td>1</td>\n",
       "      <td>89.0</td>\n",
       "      <td>66.0</td>\n",
       "      <td>23.0</td>\n",
       "      <td>94.0</td>\n",
       "      <td>28.1</td>\n",
       "      <td>0.167</td>\n",
       "      <td>21</td>\n",
       "      <td>0</td>\n",
       "    </tr>\n",
       "    <tr>\n",
       "      <th>4</th>\n",
       "      <td>0</td>\n",
       "      <td>137.0</td>\n",
       "      <td>40.0</td>\n",
       "      <td>35.0</td>\n",
       "      <td>168.0</td>\n",
       "      <td>43.1</td>\n",
       "      <td>2.288</td>\n",
       "      <td>33</td>\n",
       "      <td>1</td>\n",
       "    </tr>\n",
       "    <tr>\n",
       "      <th>6</th>\n",
       "      <td>3</td>\n",
       "      <td>78.0</td>\n",
       "      <td>50.0</td>\n",
       "      <td>32.0</td>\n",
       "      <td>88.0</td>\n",
       "      <td>31.0</td>\n",
       "      <td>0.248</td>\n",
       "      <td>26</td>\n",
       "      <td>1</td>\n",
       "    </tr>\n",
       "    <tr>\n",
       "      <th>8</th>\n",
       "      <td>2</td>\n",
       "      <td>197.0</td>\n",
       "      <td>70.0</td>\n",
       "      <td>45.0</td>\n",
       "      <td>543.0</td>\n",
       "      <td>30.5</td>\n",
       "      <td>0.158</td>\n",
       "      <td>53</td>\n",
       "      <td>1</td>\n",
       "    </tr>\n",
       "    <tr>\n",
       "      <th>13</th>\n",
       "      <td>1</td>\n",
       "      <td>189.0</td>\n",
       "      <td>60.0</td>\n",
       "      <td>23.0</td>\n",
       "      <td>846.0</td>\n",
       "      <td>30.1</td>\n",
       "      <td>0.398</td>\n",
       "      <td>59</td>\n",
       "      <td>1</td>\n",
       "    </tr>\n",
       "  </tbody>\n",
       "</table>\n",
       "</div>"
      ],
      "text/plain": [
       "    Pregnancies  Glucose  BloodPressure  SkinThickness  Insulin   BMI  \\\n",
       "3             1     89.0           66.0           23.0     94.0  28.1   \n",
       "4             0    137.0           40.0           35.0    168.0  43.1   \n",
       "6             3     78.0           50.0           32.0     88.0  31.0   \n",
       "8             2    197.0           70.0           45.0    543.0  30.5   \n",
       "13            1    189.0           60.0           23.0    846.0  30.1   \n",
       "\n",
       "    DiabetesPedigreeFunction  Age  Outcome  \n",
       "3                      0.167   21        0  \n",
       "4                      2.288   33        1  \n",
       "6                      0.248   26        1  \n",
       "8                      0.158   53        1  \n",
       "13                     0.398   59        1  "
      ]
     },
     "execution_count": 1231,
     "metadata": {},
     "output_type": "execute_result"
    }
   ],
   "source": [
    "diabete.head()"
   ]
  },
  {
   "cell_type": "code",
   "execution_count": 1228,
   "metadata": {},
   "outputs": [],
   "source": [
    "insulin = diabete.iloc[:, 0:8].values"
   ]
  },
  {
   "cell_type": "code",
   "execution_count": 1229,
   "metadata": {},
   "outputs": [
    {
     "data": {
      "text/plain": [
       "array([[  1.   ,  89.   ,  66.   , ...,  28.1  ,   0.167,  21.   ],\n",
       "       [  0.   , 137.   ,  40.   , ...,  43.1  ,   2.288,  33.   ],\n",
       "       [  3.   ,  78.   ,  50.   , ...,  31.   ,   0.248,  26.   ],\n",
       "       ...,\n",
       "       [  2.   ,  88.   ,  58.   , ...,  28.4  ,   0.766,  22.   ],\n",
       "       [ 10.   , 101.   ,  76.   , ...,  32.9  ,   0.171,  63.   ],\n",
       "       [  5.   , 121.   ,  72.   , ...,  26.2  ,   0.245,  30.   ]])"
      ]
     },
     "execution_count": 1229,
     "metadata": {},
     "output_type": "execute_result"
    }
   ],
   "source": [
    "insulin"
   ]
  },
  {
   "cell_type": "code",
   "execution_count": 1145,
   "metadata": {},
   "outputs": [],
   "source": [
    "X_NC = pima_df_NC.iloc[:,0:6]\n",
    "Y_NC = pima_df_NC.iloc[:,6].values\n",
    "\n",
    "scaler = StandardScaler()\n",
    "X_NC = scaler.fit_transform(X_NC)"
   ]
  },
  {
   "cell_type": "code",
   "execution_count": 1178,
   "metadata": {},
   "outputs": [],
   "source": [
    "Y_NC = to_categorical(Y_NC, 2)"
   ]
  },
  {
   "cell_type": "code",
   "execution_count": 1180,
   "metadata": {},
   "outputs": [],
   "source": [
    "seed = 15\n",
    "np.random.seed(seed)"
   ]
  },
  {
   "cell_type": "code",
   "execution_count": 1181,
   "metadata": {},
   "outputs": [],
   "source": [
    "X_train, X_test, y_train, y_test = train_test_split(X_NC, Y_NC, test_size=0.2, random_state = np.random.seed(seed))\n",
    "X_train, X_vali, y_train, y_vali = train_test_split(X_train, y_train, test_size=0.2, random_state = np.random.seed(seed))"
   ]
  },
  {
   "cell_type": "code",
   "execution_count": 1205,
   "metadata": {},
   "outputs": [],
   "source": [
    "def pima_model() :\n",
    "    model = Sequential()\n",
    "    \n",
    "    model.add(Dense(4, input_dim = 6, activation = 'relu'))\n",
    "    \n",
    "    model.add(Dense(216, activation = 'relu', kernel_initializer = 'he_uniform'))\n",
    "    model.add(Dropout(0.1))\n",
    "    model.add(Dense(128, activation = 'relu', kernel_initializer = 'he_uniform'))\n",
    "    model.add(Dropout(0.1))\n",
    "    model.add(Dense(64, activation = 'relu', kernel_initializer = 'he_uniform'))\n",
    "    model.add(Dropout(0.1))\n",
    "    model.add(Dense(32, activation = 'relu', kernel_initializer = 'he_uniform'))\n",
    "    model.add(Dropout(0.1))\n",
    "    model.add(Dense(16, activation = 'relu', kernel_initializer = 'he_uniform'))\n",
    "    model.add(Dropout(0.1))\n",
    "    model.add(Dense(8,  activation = 'relu', kernel_initializer = 'he_uniform'))\n",
    "    model.add(Dropout(0.1))\n",
    "    model.add(Dense(4,  activation = 'relu', kernel_initializer = 'he_uniform'))\n",
    "    model.add(Dropout(0.1))\n",
    "    \n",
    "    model.add(Dense(2, activation = 'softmax'))\n",
    "\n",
    "    model.summary()\n",
    "    \n",
    "    model.compile(optimizer ='adam',loss='categorical_crossentropy', metrics =['accuracy'])\n",
    "    \n",
    "    return model"
   ]
  },
  {
   "cell_type": "code",
   "execution_count": 1206,
   "metadata": {},
   "outputs": [],
   "source": [
    "early_stopping = EarlyStopping(monitor='val_loss', patience=10)"
   ]
  },
  {
   "cell_type": "code",
   "execution_count": 1207,
   "metadata": {},
   "outputs": [
    {
     "name": "stdout",
     "output_type": "stream",
     "text": [
      "_________________________________________________________________\n",
      "Layer (type)                 Output Shape              Param #   \n",
      "=================================================================\n",
      "dense_428 (Dense)            (None, 4)                 28        \n",
      "_________________________________________________________________\n",
      "dense_429 (Dense)            (None, 216)               1080      \n",
      "_________________________________________________________________\n",
      "dropout_55 (Dropout)         (None, 216)               0         \n",
      "_________________________________________________________________\n",
      "dense_430 (Dense)            (None, 128)               27776     \n",
      "_________________________________________________________________\n",
      "dropout_56 (Dropout)         (None, 128)               0         \n",
      "_________________________________________________________________\n",
      "dense_431 (Dense)            (None, 64)                8256      \n",
      "_________________________________________________________________\n",
      "dropout_57 (Dropout)         (None, 64)                0         \n",
      "_________________________________________________________________\n",
      "dense_432 (Dense)            (None, 32)                2080      \n",
      "_________________________________________________________________\n",
      "dropout_58 (Dropout)         (None, 32)                0         \n",
      "_________________________________________________________________\n",
      "dense_433 (Dense)            (None, 16)                528       \n",
      "_________________________________________________________________\n",
      "dropout_59 (Dropout)         (None, 16)                0         \n",
      "_________________________________________________________________\n",
      "dense_434 (Dense)            (None, 8)                 136       \n",
      "_________________________________________________________________\n",
      "dropout_60 (Dropout)         (None, 8)                 0         \n",
      "_________________________________________________________________\n",
      "dense_435 (Dense)            (None, 4)                 36        \n",
      "_________________________________________________________________\n",
      "dropout_61 (Dropout)         (None, 4)                 0         \n",
      "_________________________________________________________________\n",
      "dense_436 (Dense)            (None, 2)                 10        \n",
      "=================================================================\n",
      "Total params: 39,930\n",
      "Trainable params: 39,930\n",
      "Non-trainable params: 0\n",
      "_________________________________________________________________\n",
      "Train on 491 samples, validate on 123 samples\n",
      "Epoch 1/1000\n",
      "491/491 [==============================] - 13s 27ms/step - loss: 0.6828 - acc: 0.6171 - val_loss: 0.6567 - val_acc: 0.7236\n",
      "Epoch 2/1000\n",
      "491/491 [==============================] - 0s 438us/step - loss: 0.6728 - acc: 0.6558 - val_loss: 0.6140 - val_acc: 0.7886\n",
      "Epoch 3/1000\n",
      "491/491 [==============================] - 0s 453us/step - loss: 0.6394 - acc: 0.6904 - val_loss: 0.5882 - val_acc: 0.7724\n",
      "Epoch 4/1000\n",
      "491/491 [==============================] - 0s 407us/step - loss: 0.6257 - acc: 0.7067 - val_loss: 0.5608 - val_acc: 0.7805\n",
      "Epoch 5/1000\n",
      "491/491 [==============================] - 0s 406us/step - loss: 0.6064 - acc: 0.7332 - val_loss: 0.5416 - val_acc: 0.7724\n",
      "Epoch 6/1000\n",
      "491/491 [==============================] - 0s 406us/step - loss: 0.6099 - acc: 0.7332 - val_loss: 0.5456 - val_acc: 0.7805\n",
      "Epoch 7/1000\n",
      "491/491 [==============================] - 0s 433us/step - loss: 0.5936 - acc: 0.7434 - val_loss: 0.5468 - val_acc: 0.7724\n",
      "Epoch 8/1000\n",
      "491/491 [==============================] - 0s 404us/step - loss: 0.5822 - acc: 0.7332 - val_loss: 0.5316 - val_acc: 0.7642\n",
      "Epoch 9/1000\n",
      "491/491 [==============================] - 0s 370us/step - loss: 0.5810 - acc: 0.7352 - val_loss: 0.5237 - val_acc: 0.7805\n",
      "Epoch 10/1000\n",
      "491/491 [==============================] - 0s 423us/step - loss: 0.5883 - acc: 0.7332 - val_loss: 0.5100 - val_acc: 0.7886\n",
      "Epoch 11/1000\n",
      "491/491 [==============================] - 0s 436us/step - loss: 0.5732 - acc: 0.7495 - val_loss: 0.5093 - val_acc: 0.7724\n",
      "Epoch 12/1000\n",
      "491/491 [==============================] - 0s 435us/step - loss: 0.5586 - acc: 0.7495 - val_loss: 0.5050 - val_acc: 0.7967\n",
      "Epoch 13/1000\n",
      "491/491 [==============================] - 0s 413us/step - loss: 0.5435 - acc: 0.7556 - val_loss: 0.4992 - val_acc: 0.7967\n",
      "Epoch 14/1000\n",
      "491/491 [==============================] - 0s 386us/step - loss: 0.5588 - acc: 0.7576 - val_loss: 0.4940 - val_acc: 0.7967\n",
      "Epoch 15/1000\n",
      "491/491 [==============================] - 0s 415us/step - loss: 0.5418 - acc: 0.7637 - val_loss: 0.4984 - val_acc: 0.7886\n",
      "Epoch 16/1000\n",
      "491/491 [==============================] - 0s 405us/step - loss: 0.5353 - acc: 0.7393 - val_loss: 0.4919 - val_acc: 0.7642\n",
      "Epoch 17/1000\n",
      "491/491 [==============================] - 0s 414us/step - loss: 0.5253 - acc: 0.7617 - val_loss: 0.4884 - val_acc: 0.7886\n",
      "Epoch 18/1000\n",
      "491/491 [==============================] - 0s 412us/step - loss: 0.5434 - acc: 0.7576 - val_loss: 0.4938 - val_acc: 0.7805\n",
      "Epoch 19/1000\n",
      "491/491 [==============================] - 0s 405us/step - loss: 0.5217 - acc: 0.7597 - val_loss: 0.4853 - val_acc: 0.7724\n",
      "Epoch 20/1000\n",
      "491/491 [==============================] - 0s 426us/step - loss: 0.5390 - acc: 0.7536 - val_loss: 0.4850 - val_acc: 0.7886\n",
      "Epoch 21/1000\n",
      "491/491 [==============================] - 1s 1ms/step - loss: 0.5182 - acc: 0.7637 - val_loss: 0.4936 - val_acc: 0.7886\n",
      "Epoch 22/1000\n",
      "491/491 [==============================] - 0s 420us/step - loss: 0.5286 - acc: 0.7597 - val_loss: 0.4943 - val_acc: 0.7886\n",
      "Epoch 23/1000\n",
      "491/491 [==============================] - 0s 369us/step - loss: 0.5139 - acc: 0.7719 - val_loss: 0.4975 - val_acc: 0.7805\n",
      "Epoch 24/1000\n",
      "491/491 [==============================] - 0s 407us/step - loss: 0.5278 - acc: 0.7495 - val_loss: 0.5014 - val_acc: 0.7724\n",
      "Epoch 25/1000\n",
      "491/491 [==============================] - 0s 444us/step - loss: 0.4915 - acc: 0.7699 - val_loss: 0.4977 - val_acc: 0.7805\n",
      "Epoch 26/1000\n",
      "491/491 [==============================] - 0s 402us/step - loss: 0.4971 - acc: 0.7699 - val_loss: 0.4981 - val_acc: 0.7805\n",
      "Epoch 27/1000\n",
      "491/491 [==============================] - 0s 456us/step - loss: 0.5157 - acc: 0.7597 - val_loss: 0.5006 - val_acc: 0.7805\n",
      "Epoch 28/1000\n",
      "491/491 [==============================] - 0s 395us/step - loss: 0.5132 - acc: 0.7760 - val_loss: 0.5044 - val_acc: 0.7805\n",
      "Epoch 29/1000\n",
      "491/491 [==============================] - 0s 472us/step - loss: 0.5263 - acc: 0.7576 - val_loss: 0.5069 - val_acc: 0.7805\n",
      "Epoch 30/1000\n",
      "491/491 [==============================] - 0s 417us/step - loss: 0.5235 - acc: 0.7617 - val_loss: 0.5068 - val_acc: 0.7967\n"
     ]
    },
    {
     "data": {
      "image/png": "[encoded data removed]",
      "text/plain": [
       "<Figure size 1080x360 with 2 Axes>"
      ]
     },
     "metadata": {
      "needs_background": "light"
     },
     "output_type": "display_data"
    }
   ],
   "source": [
    "model = pima_model()\n",
    "history = model.fit(X_train, y_train, batch_size = 64, epochs = 1000, validation_data = (X_vali, y_vali), callbacks = [early_stopping])\n",
    "plot_model_history(history)"
   ]
  },
  {
   "cell_type": "code",
   "execution_count": 1208,
   "metadata": {},
   "outputs": [
    {
     "name": "stdout",
     "output_type": "stream",
     "text": [
      "491/491 [==============================] - 0s 389us/step\n",
      "\n",
      "Accuracy: 0.7862\n"
     ]
    }
   ],
   "source": [
    "print('\\nAccuracy: {:.4f}'.format(model.evaluate(X_train, y_train)[1]))"
   ]
  },
  {
   "cell_type": "code",
   "execution_count": 1209,
   "metadata": {},
   "outputs": [
    {
     "name": "stdout",
     "output_type": "stream",
     "text": [
      "154/154 [==============================] - 0s 348us/step\n",
      "Test: accuracy = 0.746753  ;  loss_v = 0.538406\n"
     ]
    }
   ],
   "source": [
    "loss, accuracy = model.evaluate(X_test, y_test, verbose=1)\n",
    "print(\"Test: accuracy = %f  ;  loss_v = %f\" % (accuracy, loss))"
   ]
  },
  {
   "cell_type": "code",
   "execution_count": 1062,
   "metadata": {},
   "outputs": [],
   "source": [
    "model1 = KerasClassifier(build_fn = pima_model, epochs = 150, verbose = 1)\n",
    "model2 = KerasClassifier(build_fn = pima_model, epochs = 150, verbose = 1)"
   ]
  },
  {
   "cell_type": "code",
   "execution_count": 1063,
   "metadata": {
    "collapsed": true,
    "jupyter": {
     "outputs_hidden": true
    }
   },
   "outputs": [
    {
     "name": "stdout",
     "output_type": "stream",
     "text": [
      "_________________________________________________________________\n",
      "Layer (type)                 Output Shape              Param #   \n",
      "=================================================================\n",
      "dense_280 (Dense)            (None, 4)                 28        \n",
      "_________________________________________________________________\n",
      "dense_281 (Dense)            (None, 216)               1080      \n",
      "_________________________________________________________________\n",
      "dense_282 (Dense)            (None, 128)               27776     \n",
      "_________________________________________________________________\n",
      "dense_283 (Dense)            (None, 64)                8256      \n",
      "_________________________________________________________________\n",
      "dense_284 (Dense)            (None, 32)                2080      \n",
      "_________________________________________________________________\n",
      "dense_285 (Dense)            (None, 1)                 33        \n",
      "=================================================================\n",
      "Total params: 39,253\n",
      "Trainable params: 39,253\n",
      "Non-trainable params: 0\n",
      "_________________________________________________________________\n",
      "Epoch 1/150\n",
      "614/614 [==============================] - 8s 13ms/step - loss: 0.6518 - acc: 0.6336\n",
      "Epoch 2/150\n",
      "614/614 [==============================] - 0s 522us/step - loss: 0.6010 - acc: 0.6580\n",
      "Epoch 3/150\n",
      "614/614 [==============================] - 0s 368us/step - loss: 0.6044 - acc: 0.6450\n",
      "Epoch 4/150\n",
      "614/614 [==============================] - 0s 530us/step - loss: 0.5888 - acc: 0.6792\n",
      "Epoch 5/150\n",
      "614/614 [==============================] - 0s 604us/step - loss: 0.5770 - acc: 0.6889\n",
      "Epoch 6/150\n",
      "614/614 [==============================] - 0s 504us/step - loss: 0.5671 - acc: 0.6726\n",
      "Epoch 7/150\n",
      "614/614 [==============================] - 0s 308us/step - loss: 0.5652 - acc: 0.6987\n",
      "Epoch 8/150\n",
      "614/614 [==============================] - 0s 302us/step - loss: 0.5447 - acc: 0.7150\n",
      "Epoch 9/150\n",
      "614/614 [==============================] - 0s 320us/step - loss: 0.5468 - acc: 0.7085\n",
      "Epoch 10/150\n",
      "614/614 [==============================] - 0s 341us/step - loss: 0.5441 - acc: 0.7248\n",
      "Epoch 11/150\n",
      "614/614 [==============================] - 0s 275us/step - loss: 0.5171 - acc: 0.7215\n",
      "Epoch 12/150\n",
      "614/614 [==============================] - 0s 283us/step - loss: 0.5327 - acc: 0.7150\n",
      "Epoch 13/150\n",
      "614/614 [==============================] - 0s 297us/step - loss: 0.5290 - acc: 0.7117\n",
      "Epoch 14/150\n",
      "614/614 [==============================] - 0s 298us/step - loss: 0.5172 - acc: 0.7199\n",
      "Epoch 15/150\n",
      "614/614 [==============================] - 0s 275us/step - loss: 0.5053 - acc: 0.7362\n",
      "Epoch 16/150\n",
      "614/614 [==============================] - 0s 283us/step - loss: 0.4975 - acc: 0.7459\n",
      "Epoch 17/150\n",
      "614/614 [==============================] - 0s 284us/step - loss: 0.4939 - acc: 0.7427\n",
      "Epoch 18/150\n",
      "614/614 [==============================] - 0s 273us/step - loss: 0.4917 - acc: 0.7345\n",
      "Epoch 19/150\n",
      "614/614 [==============================] - 0s 309us/step - loss: 0.4856 - acc: 0.7492\n",
      "Epoch 20/150\n",
      "614/614 [==============================] - 0s 290us/step - loss: 0.4900 - acc: 0.7459\n",
      "Epoch 21/150\n",
      "614/614 [==============================] - 0s 332us/step - loss: 0.4905 - acc: 0.7492\n",
      "Epoch 22/150\n",
      "614/614 [==============================] - 0s 345us/step - loss: 0.5015 - acc: 0.7394\n",
      "Epoch 23/150\n",
      "614/614 [==============================] - 0s 354us/step - loss: 0.4900 - acc: 0.7573\n",
      "Epoch 24/150\n",
      "614/614 [==============================] - 0s 285us/step - loss: 0.4824 - acc: 0.7508\n",
      "Epoch 25/150\n",
      "614/614 [==============================] - 0s 303us/step - loss: 0.4820 - acc: 0.7492\n",
      "Epoch 26/150\n",
      "614/614 [==============================] - 0s 300us/step - loss: 0.4778 - acc: 0.7557\n",
      "Epoch 27/150\n",
      "614/614 [==============================] - 0s 399us/step - loss: 0.4745 - acc: 0.7606\n",
      "Epoch 28/150\n",
      "614/614 [==============================] - 0s 633us/step - loss: 0.4776 - acc: 0.7541\n",
      "Epoch 29/150\n",
      "614/614 [==============================] - 0s 394us/step - loss: 0.4848 - acc: 0.7443\n",
      "Epoch 30/150\n",
      "614/614 [==============================] - 0s 483us/step - loss: 0.4745 - acc: 0.7524\n",
      "Epoch 31/150\n",
      "614/614 [==============================] - 0s 491us/step - loss: 0.4728 - acc: 0.7573\n",
      "Epoch 32/150\n",
      "614/614 [==============================] - 0s 376us/step - loss: 0.4725 - acc: 0.7524\n",
      "Epoch 33/150\n",
      "614/614 [==============================] - 0s 392us/step - loss: 0.4715 - acc: 0.7590\n",
      "Epoch 34/150\n",
      "614/614 [==============================] - 0s 403us/step - loss: 0.4736 - acc: 0.7573\n",
      "Epoch 35/150\n",
      "614/614 [==============================] - 0s 451us/step - loss: 0.4654 - acc: 0.7541\n",
      "Epoch 36/150\n",
      "614/614 [==============================] - 0s 376us/step - loss: 0.4656 - acc: 0.7459\n",
      "Epoch 37/150\n",
      "614/614 [==============================] - 0s 418us/step - loss: 0.4603 - acc: 0.7622\n",
      "Epoch 38/150\n",
      "614/614 [==============================] - 0s 385us/step - loss: 0.4652 - acc: 0.7524\n",
      "Epoch 39/150\n",
      "614/614 [==============================] - 0s 741us/step - loss: 0.4665 - acc: 0.7573\n",
      "Epoch 40/150\n",
      "614/614 [==============================] - 0s 447us/step - loss: 0.4672 - acc: 0.7524\n",
      "Epoch 41/150\n",
      "614/614 [==============================] - 0s 303us/step - loss: 0.4601 - acc: 0.7655\n",
      "Epoch 42/150\n",
      "614/614 [==============================] - 0s 386us/step - loss: 0.4577 - acc: 0.7622\n",
      "Epoch 43/150\n",
      "614/614 [==============================] - 0s 446us/step - loss: 0.4563 - acc: 0.7638\n",
      "Epoch 44/150\n",
      "614/614 [==============================] - 0s 319us/step - loss: 0.4601 - acc: 0.7622\n",
      "Epoch 45/150\n",
      "614/614 [==============================] - 0s 352us/step - loss: 0.4607 - acc: 0.7638\n",
      "Epoch 46/150\n",
      "614/614 [==============================] - 0s 336us/step - loss: 0.4473 - acc: 0.7720\n",
      "Epoch 47/150\n",
      "614/614 [==============================] - 0s 303us/step - loss: 0.4493 - acc: 0.7622\n",
      "Epoch 48/150\n",
      "614/614 [==============================] - 0s 308us/step - loss: 0.4424 - acc: 0.7720\n",
      "Epoch 49/150\n",
      "614/614 [==============================] - 0s 325us/step - loss: 0.4392 - acc: 0.7752\n",
      "Epoch 50/150\n",
      "614/614 [==============================] - 0s 304us/step - loss: 0.4531 - acc: 0.7492\n",
      "Epoch 51/150\n",
      "614/614 [==============================] - 0s 292us/step - loss: 0.4490 - acc: 0.7704\n",
      "Epoch 52/150\n",
      "614/614 [==============================] - 0s 352us/step - loss: 0.4433 - acc: 0.7671\n",
      "Epoch 53/150\n",
      "614/614 [==============================] - 0s 298us/step - loss: 0.4365 - acc: 0.7687\n",
      "Epoch 54/150\n",
      "614/614 [==============================] - 0s 308us/step - loss: 0.4570 - acc: 0.7492\n",
      "Epoch 55/150\n",
      "614/614 [==============================] - 0s 356us/step - loss: 0.4438 - acc: 0.7704\n",
      "Epoch 56/150\n",
      "614/614 [==============================] - 0s 309us/step - loss: 0.4451 - acc: 0.7655\n",
      "Epoch 57/150\n",
      "614/614 [==============================] - 0s 356us/step - loss: 0.4382 - acc: 0.7557\n",
      "Epoch 58/150\n",
      "614/614 [==============================] - 0s 319us/step - loss: 0.4319 - acc: 0.7687\n",
      "Epoch 59/150\n",
      "614/614 [==============================] - 0s 306us/step - loss: 0.4331 - acc: 0.7704\n",
      "Epoch 60/150\n",
      "614/614 [==============================] - 0s 282us/step - loss: 0.4319 - acc: 0.7850\n",
      "Epoch 61/150\n",
      "614/614 [==============================] - 0s 294us/step - loss: 0.4263 - acc: 0.7850\n",
      "Epoch 62/150\n",
      "614/614 [==============================] - 0s 309us/step - loss: 0.4251 - acc: 0.7801\n",
      "Epoch 63/150\n",
      "614/614 [==============================] - 0s 402us/step - loss: 0.4229 - acc: 0.7720\n",
      "Epoch 64/150\n",
      "614/614 [==============================] - 0s 307us/step - loss: 0.4241 - acc: 0.7704\n",
      "Epoch 65/150\n",
      "614/614 [==============================] - 0s 288us/step - loss: 0.4300 - acc: 0.7818\n",
      "Epoch 66/150\n",
      "614/614 [==============================] - 0s 301us/step - loss: 0.4156 - acc: 0.7720\n",
      "Epoch 67/150\n",
      "614/614 [==============================] - 0s 318us/step - loss: 0.4154 - acc: 0.7850\n",
      "Epoch 68/150\n",
      "614/614 [==============================] - 0s 296us/step - loss: 0.4179 - acc: 0.7752\n",
      "Epoch 69/150\n",
      "614/614 [==============================] - 0s 298us/step - loss: 0.4083 - acc: 0.7752\n",
      "Epoch 70/150\n",
      "614/614 [==============================] - 0s 306us/step - loss: 0.4068 - acc: 0.7899\n",
      "Epoch 71/150\n",
      "614/614 [==============================] - 0s 285us/step - loss: 0.4165 - acc: 0.7785\n",
      "Epoch 72/150\n",
      "614/614 [==============================] - 0s 289us/step - loss: 0.4074 - acc: 0.7948\n",
      "Epoch 73/150\n",
      "614/614 [==============================] - 0s 280us/step - loss: 0.4116 - acc: 0.7834\n",
      "Epoch 74/150\n",
      "614/614 [==============================] - 0s 289us/step - loss: 0.4085 - acc: 0.7899\n",
      "Epoch 75/150\n",
      "614/614 [==============================] - 0s 296us/step - loss: 0.4010 - acc: 0.7883\n",
      "Epoch 76/150\n",
      "614/614 [==============================] - 0s 280us/step - loss: 0.4126 - acc: 0.7801\n",
      "Epoch 77/150\n",
      "614/614 [==============================] - 0s 296us/step - loss: 0.3962 - acc: 0.7948\n",
      "Epoch 78/150\n",
      "614/614 [==============================] - 0s 323us/step - loss: 0.3892 - acc: 0.8160\n",
      "Epoch 79/150\n",
      "614/614 [==============================] - 0s 287us/step - loss: 0.4031 - acc: 0.7850\n",
      "Epoch 80/150\n",
      "614/614 [==============================] - 0s 271us/step - loss: 0.3882 - acc: 0.7948\n",
      "Epoch 81/150\n",
      "614/614 [==============================] - 0s 295us/step - loss: 0.4148 - acc: 0.7818\n",
      "Epoch 82/150\n",
      "614/614 [==============================] - 0s 287us/step - loss: 0.3980 - acc: 0.7883\n",
      "Epoch 83/150\n",
      "614/614 [==============================] - 0s 282us/step - loss: 0.3902 - acc: 0.7997\n",
      "Epoch 84/150\n",
      "614/614 [==============================] - 0s 400us/step - loss: 0.3949 - acc: 0.7915\n",
      "Epoch 85/150\n",
      "614/614 [==============================] - 0s 326us/step - loss: 0.3873 - acc: 0.8094\n",
      "Epoch 86/150\n",
      "614/614 [==============================] - 0s 322us/step - loss: 0.3783 - acc: 0.8029\n",
      "Epoch 87/150\n",
      "614/614 [==============================] - 0s 361us/step - loss: 0.3855 - acc: 0.7997\n",
      "Epoch 88/150\n",
      "614/614 [==============================] - 0s 364us/step - loss: 0.4035 - acc: 0.7964\n",
      "Epoch 89/150\n",
      "614/614 [==============================] - 0s 316us/step - loss: 0.3824 - acc: 0.8046\n",
      "Epoch 90/150\n",
      "614/614 [==============================] - 0s 315us/step - loss: 0.3771 - acc: 0.8062\n",
      "Epoch 91/150\n",
      "614/614 [==============================] - 0s 299us/step - loss: 0.3732 - acc: 0.8127\n",
      "Epoch 92/150\n",
      "614/614 [==============================] - 0s 275us/step - loss: 0.3712 - acc: 0.7948\n",
      "Epoch 93/150\n",
      "614/614 [==============================] - 0s 275us/step - loss: 0.3750 - acc: 0.8046\n",
      "Epoch 94/150\n",
      "614/614 [==============================] - 0s 329us/step - loss: 0.3805 - acc: 0.8029\n",
      "Epoch 95/150\n",
      "614/614 [==============================] - 0s 289us/step - loss: 0.3814 - acc: 0.7899\n",
      "Epoch 96/150\n",
      "614/614 [==============================] - 0s 277us/step - loss: 0.3762 - acc: 0.8111\n",
      "Epoch 97/150\n",
      "614/614 [==============================] - 0s 294us/step - loss: 0.3825 - acc: 0.8078\n",
      "Epoch 98/150\n",
      "614/614 [==============================] - 0s 311us/step - loss: 0.3724 - acc: 0.8046\n",
      "Epoch 99/150\n",
      "614/614 [==============================] - 0s 342us/step - loss: 0.3561 - acc: 0.8208\n",
      "Epoch 100/150\n",
      "614/614 [==============================] - 0s 313us/step - loss: 0.3539 - acc: 0.8225\n",
      "Epoch 101/150\n",
      "614/614 [==============================] - 0s 318us/step - loss: 0.3617 - acc: 0.8078\n",
      "Epoch 102/150\n",
      "614/614 [==============================] - 0s 296us/step - loss: 0.3531 - acc: 0.8241\n",
      "Epoch 103/150\n",
      "614/614 [==============================] - 0s 280us/step - loss: 0.3621 - acc: 0.8176\n",
      "Epoch 104/150\n",
      "614/614 [==============================] - 0s 290us/step - loss: 0.3790 - acc: 0.8029\n",
      "Epoch 105/150\n",
      "614/614 [==============================] - 0s 284us/step - loss: 0.3763 - acc: 0.8176\n",
      "Epoch 106/150\n",
      "614/614 [==============================] - 0s 282us/step - loss: 0.3713 - acc: 0.8111\n",
      "Epoch 107/150\n",
      "614/614 [==============================] - 0s 290us/step - loss: 0.3752 - acc: 0.8143\n",
      "Epoch 108/150\n",
      "614/614 [==============================] - 0s 299us/step - loss: 0.3567 - acc: 0.8257\n",
      "Epoch 109/150\n",
      "614/614 [==============================] - 0s 336us/step - loss: 0.3440 - acc: 0.8322\n",
      "Epoch 110/150\n",
      "614/614 [==============================] - 0s 334us/step - loss: 0.3466 - acc: 0.8192\n",
      "Epoch 111/150\n",
      "614/614 [==============================] - 0s 296us/step - loss: 0.3467 - acc: 0.8274\n",
      "Epoch 112/150\n",
      "614/614 [==============================] - 0s 280us/step - loss: 0.3557 - acc: 0.8241\n",
      "Epoch 113/150\n",
      "614/614 [==============================] - 0s 292us/step - loss: 0.3448 - acc: 0.8322\n",
      "Epoch 114/150\n",
      "614/614 [==============================] - 0s 279us/step - loss: 0.3353 - acc: 0.8322\n",
      "Epoch 115/150\n",
      "614/614 [==============================] - 0s 292us/step - loss: 0.3350 - acc: 0.8355\n",
      "Epoch 116/150\n",
      "614/614 [==============================] - 0s 283us/step - loss: 0.4170 - acc: 0.8013\n",
      "Epoch 117/150\n",
      "614/614 [==============================] - 0s 284us/step - loss: 0.3913 - acc: 0.7948\n",
      "Epoch 118/150\n",
      "614/614 [==============================] - 0s 463us/step - loss: 0.3622 - acc: 0.8322\n",
      "Epoch 119/150\n",
      "614/614 [==============================] - 0s 615us/step - loss: 0.3771 - acc: 0.8029\n",
      "Epoch 120/150\n",
      "614/614 [==============================] - 0s 503us/step - loss: 0.3489 - acc: 0.8322\n",
      "Epoch 121/150\n",
      "614/614 [==============================] - 0s 540us/step - loss: 0.3394 - acc: 0.8436\n",
      "Epoch 122/150\n",
      "614/614 [==============================] - 0s 515us/step - loss: 0.3443 - acc: 0.8388\n",
      "Epoch 123/150\n",
      "614/614 [==============================] - 0s 340us/step - loss: 0.3371 - acc: 0.8420\n",
      "Epoch 124/150\n",
      "614/614 [==============================] - 0s 313us/step - loss: 0.3319 - acc: 0.8436\n",
      "Epoch 125/150\n",
      "614/614 [==============================] - 0s 443us/step - loss: 0.3328 - acc: 0.8339\n",
      "Epoch 126/150\n",
      "614/614 [==============================] - 1s 1ms/step - loss: 0.3346 - acc: 0.8371\n",
      "Epoch 127/150\n",
      "614/614 [==============================] - 1s 974us/step - loss: 0.3267 - acc: 0.8404\n",
      "Epoch 128/150\n",
      "614/614 [==============================] - 0s 409us/step - loss: 0.3227 - acc: 0.8469\n",
      "Epoch 129/150\n",
      "614/614 [==============================] - 1s 1ms/step - loss: 0.3227 - acc: 0.8436\n",
      "Epoch 130/150\n",
      "614/614 [==============================] - 1s 2ms/step - loss: 0.3175 - acc: 0.8485\n",
      "Epoch 131/150\n",
      "614/614 [==============================] - 1s 1ms/step - loss: 0.3116 - acc: 0.8550\n",
      "Epoch 132/150\n",
      "614/614 [==============================] - 1s 877us/step - loss: 0.3193 - acc: 0.8436\n",
      "Epoch 133/150\n",
      "614/614 [==============================] - 1s 2ms/step - loss: 0.3307 - acc: 0.8388\n",
      "Epoch 134/150\n",
      "614/614 [==============================] - 0s 324us/step - loss: 0.3409 - acc: 0.8355\n",
      "Epoch 135/150\n",
      "614/614 [==============================] - 0s 315us/step - loss: 0.3261 - acc: 0.8485\n",
      "Epoch 136/150\n",
      "614/614 [==============================] - 0s 293us/step - loss: 0.3112 - acc: 0.8502\n",
      "Epoch 137/150\n",
      "614/614 [==============================] - 0s 275us/step - loss: 0.3109 - acc: 0.8518\n",
      "Epoch 138/150\n",
      "614/614 [==============================] - 0s 302us/step - loss: 0.3245 - acc: 0.8453\n",
      "Epoch 139/150\n",
      "614/614 [==============================] - 0s 279us/step - loss: 0.3178 - acc: 0.8502\n",
      "Epoch 140/150\n",
      "614/614 [==============================] - 0s 277us/step - loss: 0.3186 - acc: 0.8371\n",
      "Epoch 141/150\n",
      "614/614 [==============================] - 0s 287us/step - loss: 0.3223 - acc: 0.8453\n",
      "Epoch 142/150\n",
      "614/614 [==============================] - 0s 274us/step - loss: 0.3339 - acc: 0.8502\n",
      "Epoch 143/150\n",
      "614/614 [==============================] - 0s 286us/step - loss: 0.3242 - acc: 0.8322\n",
      "Epoch 144/150\n",
      "614/614 [==============================] - 0s 274us/step - loss: 0.3067 - acc: 0.8534\n",
      "Epoch 145/150\n",
      "614/614 [==============================] - 0s 270us/step - loss: 0.2980 - acc: 0.8567\n",
      "Epoch 146/150\n",
      "614/614 [==============================] - 0s 271us/step - loss: 0.3130 - acc: 0.8583\n",
      "Epoch 147/150\n",
      "614/614 [==============================] - 0s 285us/step - loss: 0.3190 - acc: 0.8436\n",
      "Epoch 148/150\n",
      "614/614 [==============================] - 0s 299us/step - loss: 0.3101 - acc: 0.8502\n",
      "Epoch 149/150\n",
      "614/614 [==============================] - 0s 279us/step - loss: 0.3085 - acc: 0.8534\n",
      "Epoch 150/150\n",
      "614/614 [==============================] - 0s 266us/step - loss: 0.3006 - acc: 0.8567\n",
      "_________________________________________________________________\n",
      "Layer (type)                 Output Shape              Param #   \n",
      "=================================================================\n",
      "dense_286 (Dense)            (None, 4)                 28        \n",
      "_________________________________________________________________\n",
      "dense_287 (Dense)            (None, 216)               1080      \n",
      "_________________________________________________________________\n",
      "dense_288 (Dense)            (None, 128)               27776     \n",
      "_________________________________________________________________\n",
      "dense_289 (Dense)            (None, 64)                8256      \n",
      "_________________________________________________________________\n",
      "dense_290 (Dense)            (None, 32)                2080      \n",
      "_________________________________________________________________\n",
      "dense_291 (Dense)            (None, 1)                 33        \n",
      "=================================================================\n",
      "Total params: 39,253\n",
      "Trainable params: 39,253\n",
      "Non-trainable params: 0\n",
      "_________________________________________________________________\n",
      "Epoch 1/150\n",
      "614/614 [==============================] - 10s 17ms/step - loss: 0.6339 - acc: 0.7020\n",
      "Epoch 2/150\n",
      "614/614 [==============================] - 0s 355us/step - loss: 0.5632 - acc: 0.7459\n",
      "Epoch 3/150\n",
      "614/614 [==============================] - 0s 322us/step - loss: 0.5292 - acc: 0.7704\n",
      "Epoch 4/150\n",
      "614/614 [==============================] - 0s 358us/step - loss: 0.5233 - acc: 0.7606\n",
      "Epoch 5/150\n",
      "614/614 [==============================] - 0s 324us/step - loss: 0.5178 - acc: 0.7622\n",
      "Epoch 6/150\n",
      "614/614 [==============================] - 0s 341us/step - loss: 0.5051 - acc: 0.7671\n",
      "Epoch 7/150\n",
      "614/614 [==============================] - 0s 363us/step - loss: 0.5007 - acc: 0.7720\n",
      "Epoch 8/150\n",
      "614/614 [==============================] - 0s 326us/step - loss: 0.4908 - acc: 0.7720\n",
      "Epoch 9/150\n",
      "614/614 [==============================] - 0s 388us/step - loss: 0.4952 - acc: 0.7687\n",
      "Epoch 10/150\n",
      "614/614 [==============================] - 0s 337us/step - loss: 0.4875 - acc: 0.7785\n",
      "Epoch 11/150\n",
      "614/614 [==============================] - 0s 310us/step - loss: 0.4782 - acc: 0.7834\n",
      "Epoch 12/150\n",
      "614/614 [==============================] - 0s 345us/step - loss: 0.4777 - acc: 0.7769\n",
      "Epoch 13/150\n",
      "614/614 [==============================] - 0s 353us/step - loss: 0.4909 - acc: 0.7704\n",
      "Epoch 14/150\n",
      "614/614 [==============================] - 0s 319us/step - loss: 0.4838 - acc: 0.7752\n",
      "Epoch 15/150\n",
      "614/614 [==============================] - 0s 332us/step - loss: 0.4748 - acc: 0.7769\n",
      "Epoch 16/150\n",
      "614/614 [==============================] - 0s 321us/step - loss: 0.4850 - acc: 0.7801\n",
      "Epoch 17/150\n",
      "614/614 [==============================] - 0s 295us/step - loss: 0.4816 - acc: 0.7541\n",
      "Epoch 18/150\n",
      "614/614 [==============================] - 0s 317us/step - loss: 0.4712 - acc: 0.7818\n",
      "Epoch 19/150\n",
      "614/614 [==============================] - 0s 326us/step - loss: 0.4733 - acc: 0.7736 0s - loss: 0.4649 - acc: 0.774\n",
      "Epoch 20/150\n",
      "614/614 [==============================] - 0s 334us/step - loss: 0.4691 - acc: 0.7736\n",
      "Epoch 21/150\n",
      "614/614 [==============================] - 0s 340us/step - loss: 0.4612 - acc: 0.7818\n",
      "Epoch 22/150\n",
      "614/614 [==============================] - 0s 314us/step - loss: 0.4619 - acc: 0.7850\n",
      "Epoch 23/150\n",
      "614/614 [==============================] - 0s 321us/step - loss: 0.4617 - acc: 0.7818\n",
      "Epoch 24/150\n",
      "614/614 [==============================] - 0s 346us/step - loss: 0.4631 - acc: 0.7818\n",
      "Epoch 25/150\n",
      "614/614 [==============================] - 0s 324us/step - loss: 0.4480 - acc: 0.7948\n",
      "Epoch 26/150\n",
      "614/614 [==============================] - 0s 314us/step - loss: 0.4544 - acc: 0.7850\n",
      "Epoch 27/150\n",
      "614/614 [==============================] - 0s 333us/step - loss: 0.4435 - acc: 0.7883\n",
      "Epoch 28/150\n",
      "614/614 [==============================] - 0s 313us/step - loss: 0.4399 - acc: 0.7948\n",
      "Epoch 29/150\n",
      "614/614 [==============================] - 0s 321us/step - loss: 0.4424 - acc: 0.7883\n",
      "Epoch 30/150\n",
      "614/614 [==============================] - 0s 323us/step - loss: 0.4467 - acc: 0.7801\n",
      "Epoch 31/150\n",
      "614/614 [==============================] - 0s 308us/step - loss: 0.4391 - acc: 0.7964\n",
      "Epoch 32/150\n",
      "614/614 [==============================] - 0s 332us/step - loss: 0.4507 - acc: 0.7883\n",
      "Epoch 33/150\n",
      "614/614 [==============================] - 0s 317us/step - loss: 0.4448 - acc: 0.7948\n",
      "Epoch 34/150\n",
      "614/614 [==============================] - 0s 325us/step - loss: 0.4371 - acc: 0.7932\n",
      "Epoch 35/150\n",
      "614/614 [==============================] - 0s 327us/step - loss: 0.4326 - acc: 0.8029\n",
      "Epoch 36/150\n",
      "614/614 [==============================] - 0s 334us/step - loss: 0.4298 - acc: 0.7997\n",
      "Epoch 37/150\n",
      "614/614 [==============================] - 0s 308us/step - loss: 0.4294 - acc: 0.8046\n",
      "Epoch 38/150\n",
      "614/614 [==============================] - 0s 316us/step - loss: 0.4396 - acc: 0.7932\n",
      "Epoch 39/150\n",
      "614/614 [==============================] - 0s 344us/step - loss: 0.4507 - acc: 0.7752\n",
      "Epoch 40/150\n",
      "614/614 [==============================] - 0s 336us/step - loss: 0.4445 - acc: 0.7866\n",
      "Epoch 41/150\n",
      "614/614 [==============================] - 0s 332us/step - loss: 0.4285 - acc: 0.7980\n",
      "Epoch 42/150\n",
      "614/614 [==============================] - 0s 346us/step - loss: 0.4295 - acc: 0.8013\n",
      "Epoch 43/150\n",
      "614/614 [==============================] - 0s 577us/step - loss: 0.4251 - acc: 0.8029\n",
      "Epoch 44/150\n",
      "614/614 [==============================] - 0s 324us/step - loss: 0.4256 - acc: 0.8046\n",
      "Epoch 45/150\n",
      "614/614 [==============================] - 0s 315us/step - loss: 0.4239 - acc: 0.8029\n",
      "Epoch 46/150\n",
      "614/614 [==============================] - 0s 315us/step - loss: 0.4243 - acc: 0.7964\n",
      "Epoch 47/150\n",
      "614/614 [==============================] - 0s 311us/step - loss: 0.4139 - acc: 0.8029\n",
      "Epoch 48/150\n",
      "614/614 [==============================] - 0s 332us/step - loss: 0.4416 - acc: 0.7850\n",
      "Epoch 49/150\n",
      "614/614 [==============================] - 0s 341us/step - loss: 0.4361 - acc: 0.7834\n",
      "Epoch 50/150\n",
      "614/614 [==============================] - 0s 337us/step - loss: 0.4373 - acc: 0.7932\n",
      "Epoch 51/150\n",
      "614/614 [==============================] - 0s 323us/step - loss: 0.4139 - acc: 0.8013\n",
      "Epoch 52/150\n",
      "614/614 [==============================] - 0s 316us/step - loss: 0.4295 - acc: 0.7915\n",
      "Epoch 53/150\n",
      "614/614 [==============================] - 0s 361us/step - loss: 0.4111 - acc: 0.8062\n",
      "Epoch 54/150\n",
      "614/614 [==============================] - 0s 318us/step - loss: 0.4079 - acc: 0.8127\n",
      "Epoch 55/150\n",
      "614/614 [==============================] - 0s 319us/step - loss: 0.4136 - acc: 0.8029\n",
      "Epoch 56/150\n",
      "614/614 [==============================] - 0s 329us/step - loss: 0.4054 - acc: 0.8111\n",
      "Epoch 57/150\n",
      "614/614 [==============================] - 0s 310us/step - loss: 0.4097 - acc: 0.8046\n",
      "Epoch 58/150\n",
      "614/614 [==============================] - 0s 310us/step - loss: 0.4078 - acc: 0.8160\n",
      "Epoch 59/150\n",
      "614/614 [==============================] - 0s 311us/step - loss: 0.3946 - acc: 0.8290\n",
      "Epoch 60/150\n",
      "614/614 [==============================] - 0s 343us/step - loss: 0.3917 - acc: 0.8192\n",
      "Epoch 61/150\n",
      "614/614 [==============================] - 0s 319us/step - loss: 0.3977 - acc: 0.8306\n",
      "Epoch 62/150\n",
      "614/614 [==============================] - 0s 324us/step - loss: 0.3941 - acc: 0.8225\n",
      "Epoch 63/150\n",
      "614/614 [==============================] - 0s 325us/step - loss: 0.3970 - acc: 0.8274\n",
      "Epoch 64/150\n",
      "614/614 [==============================] - 0s 314us/step - loss: 0.3926 - acc: 0.8192\n",
      "Epoch 65/150\n",
      "614/614 [==============================] - 0s 315us/step - loss: 0.3968 - acc: 0.8111\n",
      "Epoch 66/150\n",
      "614/614 [==============================] - 0s 345us/step - loss: 0.3889 - acc: 0.8225\n",
      "Epoch 67/150\n",
      "614/614 [==============================] - 0s 314us/step - loss: 0.3870 - acc: 0.8306\n",
      "Epoch 68/150\n",
      "614/614 [==============================] - 0s 334us/step - loss: 0.3909 - acc: 0.8176\n",
      "Epoch 69/150\n",
      "614/614 [==============================] - 0s 386us/step - loss: 0.3839 - acc: 0.8322\n",
      "Epoch 70/150\n",
      "614/614 [==============================] - 0s 321us/step - loss: 0.3732 - acc: 0.8469\n",
      "Epoch 71/150\n",
      "614/614 [==============================] - 0s 326us/step - loss: 0.3797 - acc: 0.8502\n",
      "Epoch 72/150\n",
      "614/614 [==============================] - 0s 331us/step - loss: 0.3977 - acc: 0.8062\n",
      "Epoch 73/150\n",
      "614/614 [==============================] - 0s 324us/step - loss: 0.3978 - acc: 0.8192\n",
      "Epoch 74/150\n",
      "614/614 [==============================] - 0s 326us/step - loss: 0.3946 - acc: 0.8111\n",
      "Epoch 75/150\n",
      "614/614 [==============================] - 0s 333us/step - loss: 0.3791 - acc: 0.8339\n",
      "Epoch 76/150\n",
      "614/614 [==============================] - 0s 318us/step - loss: 0.3806 - acc: 0.8436\n",
      "Epoch 77/150\n",
      "614/614 [==============================] - 0s 321us/step - loss: 0.3720 - acc: 0.8502\n",
      "Epoch 78/150\n",
      "614/614 [==============================] - 0s 303us/step - loss: 0.3667 - acc: 0.8599\n",
      "Epoch 79/150\n",
      "614/614 [==============================] - 0s 318us/step - loss: 0.3803 - acc: 0.8306\n",
      "Epoch 80/150\n",
      "614/614 [==============================] - 0s 335us/step - loss: 0.3630 - acc: 0.8534\n",
      "Epoch 81/150\n",
      "614/614 [==============================] - 0s 341us/step - loss: 0.3763 - acc: 0.8388\n",
      "Epoch 82/150\n",
      "614/614 [==============================] - 0s 326us/step - loss: 0.3684 - acc: 0.8534\n",
      "Epoch 83/150\n",
      "614/614 [==============================] - 0s 327us/step - loss: 0.3641 - acc: 0.8420\n",
      "Epoch 84/150\n",
      "614/614 [==============================] - 0s 364us/step - loss: 0.3697 - acc: 0.8485\n",
      "Epoch 85/150\n",
      "614/614 [==============================] - 0s 377us/step - loss: 0.3798 - acc: 0.8436\n",
      "Epoch 86/150\n",
      "614/614 [==============================] - 0s 337us/step - loss: 0.3765 - acc: 0.8404\n",
      "Epoch 87/150\n",
      "614/614 [==============================] - 0s 327us/step - loss: 0.3711 - acc: 0.8485\n",
      "Epoch 88/150\n",
      "614/614 [==============================] - 0s 321us/step - loss: 0.3607 - acc: 0.8453\n",
      "Epoch 89/150\n",
      "614/614 [==============================] - 0s 316us/step - loss: 0.3521 - acc: 0.8550\n",
      "Epoch 90/150\n",
      "614/614 [==============================] - 0s 338us/step - loss: 0.3454 - acc: 0.8648\n",
      "Epoch 91/150\n",
      "614/614 [==============================] - 0s 320us/step - loss: 0.3414 - acc: 0.8648\n",
      "Epoch 92/150\n",
      "614/614 [==============================] - 0s 330us/step - loss: 0.3519 - acc: 0.8502\n",
      "Epoch 93/150\n",
      "614/614 [==============================] - 0s 313us/step - loss: 0.3549 - acc: 0.8583\n",
      "Epoch 94/150\n",
      "614/614 [==============================] - 0s 326us/step - loss: 0.3416 - acc: 0.8697\n",
      "Epoch 95/150\n",
      "614/614 [==============================] - 0s 324us/step - loss: 0.3480 - acc: 0.8730\n",
      "Epoch 96/150\n",
      "614/614 [==============================] - 0s 321us/step - loss: 0.3437 - acc: 0.8534\n",
      "Epoch 97/150\n",
      "614/614 [==============================] - 0s 320us/step - loss: 0.3455 - acc: 0.8746\n",
      "Epoch 98/150\n",
      "614/614 [==============================] - 0s 318us/step - loss: 0.3647 - acc: 0.8502\n",
      "Epoch 99/150\n",
      "614/614 [==============================] - 0s 345us/step - loss: 0.3382 - acc: 0.8632\n",
      "Epoch 100/150\n",
      "614/614 [==============================] - 0s 314us/step - loss: 0.3224 - acc: 0.8746\n",
      "Epoch 101/150\n",
      "614/614 [==============================] - 0s 322us/step - loss: 0.3264 - acc: 0.8697\n",
      "Epoch 102/150\n",
      "614/614 [==============================] - 0s 321us/step - loss: 0.3257 - acc: 0.8730\n",
      "Epoch 103/150\n",
      "614/614 [==============================] - 0s 314us/step - loss: 0.3302 - acc: 0.8779\n",
      "Epoch 104/150\n",
      "614/614 [==============================] - 0s 314us/step - loss: 0.3209 - acc: 0.8730\n",
      "Epoch 105/150\n",
      "614/614 [==============================] - 0s 306us/step - loss: 0.3163 - acc: 0.8681\n",
      "Epoch 106/150\n",
      "614/614 [==============================] - 0s 310us/step - loss: 0.3167 - acc: 0.8811\n",
      "Epoch 107/150\n",
      "614/614 [==============================] - 0s 325us/step - loss: 0.3156 - acc: 0.8779\n",
      "Epoch 108/150\n",
      "614/614 [==============================] - 0s 311us/step - loss: 0.3081 - acc: 0.8681\n",
      "Epoch 109/150\n",
      "614/614 [==============================] - 0s 296us/step - loss: 0.3139 - acc: 0.8779\n",
      "Epoch 110/150\n",
      "614/614 [==============================] - 0s 314us/step - loss: 0.3017 - acc: 0.8779\n",
      "Epoch 111/150\n",
      "614/614 [==============================] - 0s 340us/step - loss: 0.3052 - acc: 0.8827\n",
      "Epoch 112/150\n",
      "614/614 [==============================] - 0s 320us/step - loss: 0.3026 - acc: 0.8811\n",
      "Epoch 113/150\n",
      "614/614 [==============================] - 0s 332us/step - loss: 0.2988 - acc: 0.8909\n",
      "Epoch 114/150\n",
      "614/614 [==============================] - 0s 352us/step - loss: 0.3036 - acc: 0.8762\n",
      "Epoch 115/150\n",
      "614/614 [==============================] - 0s 317us/step - loss: 0.3134 - acc: 0.8876\n",
      "Epoch 116/150\n",
      "614/614 [==============================] - 0s 298us/step - loss: 0.3258 - acc: 0.8827\n",
      "Epoch 117/150\n",
      "614/614 [==============================] - 0s 319us/step - loss: 0.3345 - acc: 0.8730\n",
      "Epoch 118/150\n",
      "614/614 [==============================] - 0s 319us/step - loss: 0.3109 - acc: 0.8681\n",
      "Epoch 119/150\n",
      "614/614 [==============================] - 0s 314us/step - loss: 0.3156 - acc: 0.8860\n",
      "Epoch 120/150\n",
      "614/614 [==============================] - 0s 302us/step - loss: 0.3284 - acc: 0.8664\n",
      "Epoch 121/150\n",
      "614/614 [==============================] - 0s 327us/step - loss: 0.3101 - acc: 0.8730\n",
      "Epoch 122/150\n",
      "614/614 [==============================] - 0s 310us/step - loss: 0.3003 - acc: 0.8795\n",
      "Epoch 123/150\n",
      "614/614 [==============================] - 0s 300us/step - loss: 0.2947 - acc: 0.8893\n",
      "Epoch 124/150\n",
      "614/614 [==============================] - 0s 313us/step - loss: 0.3035 - acc: 0.8860\n",
      "Epoch 125/150\n",
      "614/614 [==============================] - 0s 320us/step - loss: 0.2928 - acc: 0.8762\n",
      "Epoch 126/150\n",
      "614/614 [==============================] - 0s 330us/step - loss: 0.3114 - acc: 0.8746\n",
      "Epoch 127/150\n",
      "614/614 [==============================] - 0s 302us/step - loss: 0.2932 - acc: 0.8795\n",
      "Epoch 128/150\n",
      "614/614 [==============================] - 0s 329us/step - loss: 0.2984 - acc: 0.8860\n",
      "Epoch 129/150\n",
      "614/614 [==============================] - 0s 313us/step - loss: 0.2790 - acc: 0.8893\n",
      "Epoch 130/150\n",
      "614/614 [==============================] - 0s 337us/step - loss: 0.2891 - acc: 0.8876\n",
      "Epoch 131/150\n",
      "614/614 [==============================] - 0s 393us/step - loss: 0.2790 - acc: 0.8909\n",
      "Epoch 132/150\n",
      "614/614 [==============================] - 0s 318us/step - loss: 0.2862 - acc: 0.8811\n",
      "Epoch 133/150\n",
      "614/614 [==============================] - 0s 317us/step - loss: 0.2742 - acc: 0.9007\n",
      "Epoch 134/150\n",
      "614/614 [==============================] - 0s 316us/step - loss: 0.2804 - acc: 0.8811\n",
      "Epoch 135/150\n",
      "614/614 [==============================] - 0s 328us/step - loss: 0.2806 - acc: 0.8925\n",
      "Epoch 136/150\n",
      "614/614 [==============================] - 0s 324us/step - loss: 0.2748 - acc: 0.8909\n",
      "Epoch 137/150\n",
      "614/614 [==============================] - 0s 300us/step - loss: 0.2811 - acc: 0.8811\n",
      "Epoch 138/150\n",
      "614/614 [==============================] - 0s 318us/step - loss: 0.2840 - acc: 0.8844\n",
      "Epoch 139/150\n",
      "614/614 [==============================] - 0s 314us/step - loss: 0.2678 - acc: 0.8941\n",
      "Epoch 140/150\n",
      "614/614 [==============================] - 0s 306us/step - loss: 0.2679 - acc: 0.8941\n",
      "Epoch 141/150\n",
      "614/614 [==============================] - 0s 317us/step - loss: 0.2703 - acc: 0.8990\n",
      "Epoch 142/150\n",
      "614/614 [==============================] - 0s 325us/step - loss: 0.2629 - acc: 0.8974\n",
      "Epoch 143/150\n",
      "614/614 [==============================] - 0s 314us/step - loss: 0.2679 - acc: 0.8909\n",
      "Epoch 144/150\n",
      "614/614 [==============================] - 0s 312us/step - loss: 0.2560 - acc: 0.8990\n",
      "Epoch 145/150\n",
      "614/614 [==============================] - 0s 319us/step - loss: 0.2573 - acc: 0.8974\n",
      "Epoch 146/150\n",
      "614/614 [==============================] - 0s 335us/step - loss: 0.2559 - acc: 0.9039\n",
      "Epoch 147/150\n",
      "614/614 [==============================] - 0s 314us/step - loss: 0.2679 - acc: 0.8974\n",
      "Epoch 148/150\n",
      "614/614 [==============================] - 0s 328us/step - loss: 0.3102 - acc: 0.8827\n",
      "Epoch 149/150\n",
      "614/614 [==============================] - 0s 303us/step - loss: 0.3298 - acc: 0.8681\n",
      "Epoch 150/150\n",
      "614/614 [==============================] - 0s 328us/step - loss: 0.2924 - acc: 0.8795\n"
     ]
    }
   ],
   "source": [
    "ensemble_clf = VotingClassifier(estimators = [('model1', model1), ('model2', model2)], voting = 'soft')\n",
    "history = ensemble_clf.fit(X_train, y_train)"
   ]
  },
  {
   "cell_type": "code",
   "execution_count": 1064,
   "metadata": {},
   "outputs": [
    {
     "name": "stdout",
     "output_type": "stream",
     "text": [
      "154/154 [==============================] - 2s 13ms/step\n",
      "154/154 [==============================] - 2s 13ms/step\n"
     ]
    }
   ],
   "source": [
    "y_pred = ensemble_clf.predict(X_test)"
   ]
  },
  {
   "cell_type": "code",
   "execution_count": 1065,
   "metadata": {},
   "outputs": [
    {
     "data": {
      "text/plain": [
       "0.7467532467532467"
      ]
     },
     "execution_count": 1065,
     "metadata": {},
     "output_type": "execute_result"
    }
   ],
   "source": [
    "accuracy_score(y_pred, y_test)"
   ]
  },
  {
   "cell_type": "code",
   "execution_count": 1066,
   "metadata": {},
   "outputs": [
    {
     "name": "stdout",
     "output_type": "stream",
     "text": [
      "-----------------------------------------------------\n",
      "              precision    recall  f1-score   support\n",
      "\n",
      "           0       0.84      0.78      0.81       104\n",
      "           1       0.60      0.68      0.64        50\n",
      "\n",
      "    accuracy                           0.75       154\n",
      "   macro avg       0.72      0.73      0.72       154\n",
      "weighted avg       0.76      0.75      0.75       154\n",
      "\n",
      "-----------------------------------------------------\n"
     ]
    },
    {
     "data": {
      "image/png": "[encoded data removed]",
      "text/plain": [
       "<Figure size 432x288 with 2 Axes>"
      ]
     },
     "metadata": {
      "needs_background": "light"
     },
     "output_type": "display_data"
    }
   ],
   "source": [
    "sns.heatmap(confusion_matrix(y_pred, y_test), annot=True, fmt='d')\n",
    "print(\"-----------------------------------------------------\")\n",
    "print(classification_report(y_pred, y_test))\n",
    "print(\"-----------------------------------------------------\")"
   ]
  },
  {
   "cell_type": "code",
   "execution_count": 1067,
   "metadata": {},
   "outputs": [
    {
     "name": "stdout",
     "output_type": "stream",
     "text": [
      "-----------------------------------------------------\n",
      "              precision    recall  f1-score   support\n",
      "\n",
      "           0       0.86      0.82      0.84       132\n",
      "           1       0.64      0.72      0.68        60\n",
      "\n",
      "    accuracy                           0.79       192\n",
      "   macro avg       0.75      0.77      0.76       192\n",
      "weighted avg       0.79      0.79      0.79       192\n",
      "\n",
      "-----------------------------------------------------\n"
     ]
    },
    {
     "data": {
      "image/png": "[encoded data removed]",
      "text/plain": [
       "<Figure size 432x288 with 2 Axes>"
      ]
     },
     "metadata": {
      "needs_background": "light"
     },
     "output_type": "display_data"
    }
   ],
   "source": [
    "sns.heatmap(confusion_matrix(predict_vote_NC, test_Y_NC), annot=True, fmt='d')\n",
    "print(\"-----------------------------------------------------\")\n",
    "print(classification_report(predict_vote_NC, test_Y_NC))\n",
    "print(\"-----------------------------------------------------\")"
   ]
  },
  {
   "cell_type": "code",
   "execution_count": null,
   "metadata": {},
   "outputs": [],
   "source": []
  }
 ],
 "metadata": {
  "kernelspec": {
   "display_name": "[studying]",
   "language": "python",
   "name": "studying"
  },
  "language_info": {
   "codemirror_mode": {
    "name": "ipython",
    "version": 3
   },
   "file_extension": ".py",
   "mimetype": "text/x-python",
   "name": "python",
   "nbconvert_exporter": "python",
   "pygments_lexer": "ipython3",
   "version": "3.7.4"
  }
 },
 "nbformat": 4,
 "nbformat_minor": 4
}
